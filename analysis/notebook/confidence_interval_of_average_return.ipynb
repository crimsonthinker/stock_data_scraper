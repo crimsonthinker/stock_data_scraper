{
 "metadata": {
  "language_info": {
   "codemirror_mode": {
    "name": "ipython",
    "version": 3
   },
   "file_extension": ".py",
   "mimetype": "text/x-python",
   "name": "python",
   "nbconvert_exporter": "python",
   "pygments_lexer": "ipython3",
   "version": "3.9.5"
  },
  "orig_nbformat": 4,
  "kernelspec": {
   "name": "python3",
   "display_name": "Python 3.9.5 64-bit ('investment': conda)"
  },
  "interpreter": {
   "hash": "8835166c13db3ce4ca0d85f1b7af29f1c190c54bfc5890b0bfac43f25d70d7ce"
  }
 },
 "nbformat": 4,
 "nbformat_minor": 2,
 "cells": [
  {
   "cell_type": "code",
   "execution_count": 1,
   "source": [
    "%load_ext autoreload\n",
    "%autoreload 2"
   ],
   "outputs": [],
   "metadata": {}
  },
  {
   "cell_type": "code",
   "execution_count": 2,
   "source": [
    "from utils.utilities import get_engine\n",
    "import pandas as pd\n",
    "import numpy as np\n",
    "from scipy.stats import norm\n",
    "import math"
   ],
   "outputs": [],
   "metadata": {}
  },
  {
   "cell_type": "code",
   "execution_count": 3,
   "source": [
    "engine = get_engine()"
   ],
   "outputs": [],
   "metadata": {}
  },
  {
   "cell_type": "code",
   "execution_count": 4,
   "source": [
    "stock_code = 'SSI'"
   ],
   "outputs": [],
   "metadata": {}
  },
  {
   "cell_type": "code",
   "execution_count": 5,
   "source": [
    "query = \"\"\"\n",
    "    SELECT\n",
    "        stock_code,\n",
    "        date,\n",
    "        close_price\n",
    "    FROM public.transaction\n",
    "    WHERE \n",
    "        stock_code = '{stock_code}'\n",
    "\"\"\"\n",
    "df = pd.read_sql_query(query, engine)\n",
    "df"
   ],
   "outputs": [
    {
     "output_type": "execute_result",
     "data": {
      "text/html": [
       "<div>\n",
       "<style scoped>\n",
       "    .dataframe tbody tr th:only-of-type {\n",
       "        vertical-align: middle;\n",
       "    }\n",
       "\n",
       "    .dataframe tbody tr th {\n",
       "        vertical-align: top;\n",
       "    }\n",
       "\n",
       "    .dataframe thead th {\n",
       "        text-align: right;\n",
       "    }\n",
       "</style>\n",
       "<table border=\"1\" class=\"dataframe\">\n",
       "  <thead>\n",
       "    <tr style=\"text-align: right;\">\n",
       "      <th></th>\n",
       "      <th>stock_code</th>\n",
       "      <th>date</th>\n",
       "      <th>close_price</th>\n",
       "    </tr>\n",
       "  </thead>\n",
       "  <tbody>\n",
       "  </tbody>\n",
       "</table>\n",
       "</div>"
      ],
      "text/plain": [
       "Empty DataFrame\n",
       "Columns: [stock_code, date, close_price]\n",
       "Index: []"
      ]
     },
     "metadata": {},
     "execution_count": 5
    }
   ],
   "metadata": {}
  },
  {
   "cell_type": "code",
   "execution_count": 6,
   "source": [
    "stocks = df['stock_code'].unique()\n",
    "close_data = None\n",
    "for stock in stocks:\n",
    "    stock_data = df[df['stock_code'] == stock][['date', 'close_price']]\n",
    "    stock_data.index = stock_data['date']\n",
    "    stock_data = stock_data.drop('date', axis = 1).sort_index()\n",
    "    stock_data = stock_data.rename(columns = {\n",
    "        'close_price' : stock\n",
    "    })\n",
    "    if close_data is None:\n",
    "        close_data = stock_data\n",
    "    else:\n",
    "        close_data = close_data.merge(stock_data, how = 'outer', left_index = True, right_index = True)"
   ],
   "outputs": [],
   "metadata": {}
  },
  {
   "cell_type": "code",
   "execution_count": 7,
   "source": [
    "close_data.head()"
   ],
   "outputs": [
    {
     "output_type": "error",
     "ename": "AttributeError",
     "evalue": "'NoneType' object has no attribute 'head'",
     "traceback": [
      "\u001b[0;31m---------------------------------------------------------------------------\u001b[0m",
      "\u001b[0;31mAttributeError\u001b[0m                            Traceback (most recent call last)",
      "\u001b[0;32m<ipython-input-7-ec31ce5ba631>\u001b[0m in \u001b[0;36m<module>\u001b[0;34m\u001b[0m\n\u001b[0;32m----> 1\u001b[0;31m \u001b[0mclose_data\u001b[0m\u001b[0;34m.\u001b[0m\u001b[0mhead\u001b[0m\u001b[0;34m(\u001b[0m\u001b[0;34m)\u001b[0m\u001b[0;34m\u001b[0m\u001b[0;34m\u001b[0m\u001b[0m\n\u001b[0m",
      "\u001b[0;31mAttributeError\u001b[0m: 'NoneType' object has no attribute 'head'"
     ]
    }
   ],
   "metadata": {}
  },
  {
   "cell_type": "code",
   "execution_count": null,
   "source": [
    "result = pd.DataFrame(columns = ['stock','sample_mean', 'interval_left', 'interval_right'])\n",
    "for stock in close_data.columns:\n",
    "    data = close_data[~close_data[stock].isnull()][stock]\n",
    "    log_return = np.log(data.shift(-1)) - np.log(data) \n",
    "    sample_size = len(log_return)\n",
    "    sample_mean = log_return.mean()\n",
    "    sample_std = log_return.std(ddof = 1) / (sample_size ** 0.5)\n",
    "\n",
    "    # left and right quantile\n",
    "    z_left = norm.ppf(0.05)\n",
    "    z_right = norm.ppf(0.95)\n",
    "\n",
    "    # upper and lower bound\n",
    "    interval_left = sample_mean + z_left * sample_std\n",
    "    interval_right = sample_mean + z_right * sample_std\n",
    "\n",
    "    # save result\n",
    "    result.loc[len(result)] = [stock,pow(math.e, sample_mean), pow(math.e,interval_left), pow(math.e, interval_right)]\n"
   ],
   "outputs": [],
   "metadata": {}
  },
  {
   "cell_type": "code",
   "execution_count": null,
   "source": [
    "result.sort_values(by = 'interval_left', ascending = False).to_csv('result.csv')"
   ],
   "outputs": [],
   "metadata": {}
  }
 ]
}