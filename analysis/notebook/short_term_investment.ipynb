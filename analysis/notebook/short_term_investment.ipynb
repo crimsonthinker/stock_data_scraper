{
 "cells": [
  {
   "cell_type": "code",
   "execution_count": 9,
   "metadata": {},
   "outputs": [],
   "source": [
    "from utils.utilities import get_engine\n",
    "import pandas as pd\n",
    "from analysis.modules.efficient_frontier import ef_random_portfolio\n",
    "from analysis.modules.fibonacci_retracement import fibonacci_retracement_strategy\n",
    "from analysis.modules.indicators import momentum_indicators"
   ]
  },
  {
   "cell_type": "code",
   "execution_count": 10,
   "metadata": {},
   "outputs": [],
   "source": [
    "PLAN_RANGE = 30\n",
    "pd.set_option('display.max_columns', None)\n",
    "pd.set_option('display.max_rows', None)"
   ]
  },
  {
   "cell_type": "code",
   "execution_count": 11,
   "metadata": {},
   "outputs": [],
   "source": [
    "engine = get_engine(country = 'AU')"
   ]
  },
  {
   "cell_type": "code",
   "execution_count": 12,
   "metadata": {},
   "outputs": [
    {
     "data": {
      "text/html": [
       "<div>\n",
       "<style scoped>\n",
       "    .dataframe tbody tr th:only-of-type {\n",
       "        vertical-align: middle;\n",
       "    }\n",
       "\n",
       "    .dataframe tbody tr th {\n",
       "        vertical-align: top;\n",
       "    }\n",
       "\n",
       "    .dataframe thead th {\n",
       "        text-align: right;\n",
       "    }\n",
       "</style>\n",
       "<table border=\"1\" class=\"dataframe\">\n",
       "  <thead>\n",
       "    <tr style=\"text-align: right;\">\n",
       "      <th></th>\n",
       "      <th>company_name</th>\n",
       "      <th>industry</th>\n",
       "      <th>stock_code</th>\n",
       "      <th>market_cap</th>\n",
       "      <th>pb_ratio</th>\n",
       "      <th>de_ratio</th>\n",
       "    </tr>\n",
       "  </thead>\n",
       "  <tbody>\n",
       "    <tr>\n",
       "      <th>0</th>\n",
       "      <td>Ardent Leisure Ltd</td>\n",
       "      <td>Leisure</td>\n",
       "      <td>ALG</td>\n",
       "      <td>218266272</td>\n",
       "      <td>0.83804137</td>\n",
       "      <td>0.236</td>\n",
       "    </tr>\n",
       "    <tr>\n",
       "      <th>1</th>\n",
       "      <td>Jupiter Mines Ltd</td>\n",
       "      <td>Other Industrial Metals &amp; Mining</td>\n",
       "      <td>JMS</td>\n",
       "      <td>342914240</td>\n",
       "      <td>0.7383966</td>\n",
       "      <td>0.107</td>\n",
       "    </tr>\n",
       "    <tr>\n",
       "      <th>2</th>\n",
       "      <td>Pacific Current Group Ltd</td>\n",
       "      <td>Asset Management</td>\n",
       "      <td>PAC</td>\n",
       "      <td>448175424</td>\n",
       "      <td>0.8796437</td>\n",
       "      <td>0.554</td>\n",
       "    </tr>\n",
       "    <tr>\n",
       "      <th>3</th>\n",
       "      <td>Lake Resources NL</td>\n",
       "      <td>Other Industrial Metals &amp; Mining</td>\n",
       "      <td>LKE</td>\n",
       "      <td>156759904</td>\n",
       "      <td>0.9166667</td>\n",
       "      <td>0.949</td>\n",
       "    </tr>\n",
       "    <tr>\n",
       "      <th>4</th>\n",
       "      <td>Bathurst Resources Limited</td>\n",
       "      <td>Coking Coal</td>\n",
       "      <td>BRL</td>\n",
       "      <td>184662400</td>\n",
       "      <td>0.65512556</td>\n",
       "      <td>0.454</td>\n",
       "    </tr>\n",
       "    <tr>\n",
       "      <th>5</th>\n",
       "      <td>Carlton Investments Ltd</td>\n",
       "      <td>Asset Management</td>\n",
       "      <td>CIN</td>\n",
       "      <td>795564736</td>\n",
       "      <td>0.9633263</td>\n",
       "      <td>0.02</td>\n",
       "    </tr>\n",
       "    <tr>\n",
       "      <th>6</th>\n",
       "      <td>Delta Lithium Ltd</td>\n",
       "      <td>Gold</td>\n",
       "      <td>DLI</td>\n",
       "      <td>220545792</td>\n",
       "      <td>0.92537314</td>\n",
       "      <td>0.067</td>\n",
       "    </tr>\n",
       "    <tr>\n",
       "      <th>7</th>\n",
       "      <td>Grange Resources Limited</td>\n",
       "      <td>Other Industrial Metals &amp; Mining</td>\n",
       "      <td>GRR</td>\n",
       "      <td>509229600</td>\n",
       "      <td>0.5352798</td>\n",
       "      <td>0.524</td>\n",
       "    </tr>\n",
       "    <tr>\n",
       "      <th>8</th>\n",
       "      <td>Hot Chili Ltd</td>\n",
       "      <td>Copper</td>\n",
       "      <td>HCH</td>\n",
       "      <td>118250552</td>\n",
       "      <td>0.5816686</td>\n",
       "      <td>0.15</td>\n",
       "    </tr>\n",
       "    <tr>\n",
       "      <th>9</th>\n",
       "      <td>Pointsbet Holdings Ltd</td>\n",
       "      <td>Gambling</td>\n",
       "      <td>PBH</td>\n",
       "      <td>254576416</td>\n",
       "      <td>0.49295774</td>\n",
       "      <td>0.716</td>\n",
       "    </tr>\n",
       "    <tr>\n",
       "      <th>10</th>\n",
       "      <td>Patriot Battery Metals Inc.</td>\n",
       "      <td>Other Industrial Metals &amp; Mining</td>\n",
       "      <td>PMT</td>\n",
       "      <td>982844480</td>\n",
       "      <td>0.51488835</td>\n",
       "      <td>0.237</td>\n",
       "    </tr>\n",
       "    <tr>\n",
       "      <th>11</th>\n",
       "      <td>Tribune Resources Ltd</td>\n",
       "      <td>Gold</td>\n",
       "      <td>TBR</td>\n",
       "      <td>155305584</td>\n",
       "      <td>0.65270126</td>\n",
       "      <td>0.016</td>\n",
       "    </tr>\n",
       "  </tbody>\n",
       "</table>\n",
       "</div>"
      ],
      "text/plain": [
       "                   company_name                          industry stock_code  \\\n",
       "0            Ardent Leisure Ltd                           Leisure        ALG   \n",
       "1             Jupiter Mines Ltd  Other Industrial Metals & Mining        JMS   \n",
       "2     Pacific Current Group Ltd                  Asset Management        PAC   \n",
       "3             Lake Resources NL  Other Industrial Metals & Mining        LKE   \n",
       "4    Bathurst Resources Limited                       Coking Coal        BRL   \n",
       "5       Carlton Investments Ltd                  Asset Management        CIN   \n",
       "6             Delta Lithium Ltd                              Gold        DLI   \n",
       "7      Grange Resources Limited  Other Industrial Metals & Mining        GRR   \n",
       "8                 Hot Chili Ltd                            Copper        HCH   \n",
       "9        Pointsbet Holdings Ltd                          Gambling        PBH   \n",
       "10  Patriot Battery Metals Inc.  Other Industrial Metals & Mining        PMT   \n",
       "11        Tribune Resources Ltd                              Gold        TBR   \n",
       "\n",
       "   market_cap    pb_ratio de_ratio  \n",
       "0   218266272  0.83804137    0.236  \n",
       "1   342914240   0.7383966    0.107  \n",
       "2   448175424   0.8796437    0.554  \n",
       "3   156759904   0.9166667    0.949  \n",
       "4   184662400  0.65512556    0.454  \n",
       "5   795564736   0.9633263     0.02  \n",
       "6   220545792  0.92537314    0.067  \n",
       "7   509229600   0.5352798    0.524  \n",
       "8   118250552   0.5816686     0.15  \n",
       "9   254576416  0.49295774    0.716  \n",
       "10  982844480  0.51488835    0.237  \n",
       "11  155305584  0.65270126    0.016  "
      ]
     },
     "execution_count": 12,
     "metadata": {},
     "output_type": "execute_result"
    }
   ],
   "source": [
    "small_cap_query = f\"\"\"\n",
    "    SELECT\n",
    "        company_name,\n",
    "        fundamental->>'industry' AS industry,\n",
    "        stock_code,\n",
    "        fundamental->>'marketCap' AS market_cap,\n",
    "        fundamental->>'priceToBook' AS pb_ratio,\n",
    "        fundamental->>'debtToEquity' AS de_ratio\n",
    "    FROM stock_info\n",
    "    WHERE\n",
    "        CAST(fundamental->>'marketCap' AS FLOAT) >= 100000000\n",
    "        AND\n",
    "        CAST(fundamental->>'marketCap' AS FLOAT) < 2000000000\n",
    "        AND\n",
    "        CAST(fundamental->>'priceToBook' AS FLOAT) >= 0.3\n",
    "        AND\n",
    "        CAST(fundamental->>'priceToBook' AS FLOAT) < 1\n",
    "        AND\n",
    "        CAST(fundamental->>'debtToEquity' AS FLOAT) < 1.1\n",
    "\n",
    "\"\"\"\n",
    "df = pd.read_sql_query(small_cap_query, engine)\n",
    "df"
   ]
  },
  {
   "cell_type": "code",
   "execution_count": 13,
   "metadata": {},
   "outputs": [
    {
     "name": "stdout",
     "output_type": "stream",
     "text": [
      "Query data\n"
     ]
    },
    {
     "name": "stdout",
     "output_type": "stream",
     "text": [
      "Convert data to close format\n",
      "Begin calculation\n"
     ]
    },
    {
     "name": "stderr",
     "output_type": "stream",
     "text": [
      "/home/khoa/anaconda3/envs/stock/lib/python3.8/site-packages/cvxpy/reductions/solvers/solving_chain.py:336: FutureWarning:\n",
      "\n",
      "\n",
      "    Your problem is being solved with the ECOS solver by default. Starting in \n",
      "    CVXPY 1.5.0, Clarabel will be used as the default solver instead. To continue \n",
      "    using ECOS, specify the ECOS solver explicitly using the ``solver=cp.ECOS`` \n",
      "    argument to the ``problem.solve`` method.\n",
      "    \n",
      "\n",
      "/home/khoa/anaconda3/envs/stock/lib/python3.8/site-packages/pypfopt/efficient_frontier/efficient_frontier.py:441: UserWarning:\n",
      "\n",
      "The risk_free_rate provided to portfolio_performance is different to the one used by max_sharpe. Using the previous value.\n",
      "\n"
     ]
    },
    {
     "data": {
      "image/png": "[encoded data removed]",
      "text/plain": [
       "<Figure size 1000x700 with 1 Axes>"
      ]
     },
     "metadata": {},
     "output_type": "display_data"
    },
    {
     "data": {
      "text/plain": [
       "{'JMS': 0.19911675625377606,\n",
       " 'CIN': 0.21565192119647467,\n",
       " 'GRR': 0.07024177660909611,\n",
       " 'TBR': 0.5149895459406533}"
      ]
     },
     "execution_count": 13,
     "metadata": {},
     "output_type": "execute_result"
    }
   ],
   "source": [
    "result = ef_random_portfolio(df['stock_code'], days = PLAN_RANGE)\n",
    "result = {k : result[k] for k in result if result[k] > 0}\n",
    "result"
   ]
  },
  {
   "cell_type": "code",
   "execution_count": 14,
   "metadata": {},
   "outputs": [
    {
     "name": "stdout",
     "output_type": "stream",
     "text": [
      "Query JMS\n"
     ]
    },
    {
     "name": "stdout",
     "output_type": "stream",
     "text": [
      "Query CIN\n",
      "Query GRR\n",
      "Query TBR\n"
     ]
    },
    {
     "data": {
      "application/vnd.plotly.v1+json": {
       "config": {
        "plotlyServerURL": "https://plot.ly"
       },
       "data": [
        {
         "name": "JMS",
         "type": "scatter",
         "x": [
          "2023-11-21",
          "2023-11-22",
          "2023-11-23",
          "2023-11-24",
          "2023-11-27",
          "2023-11-28",
          "2023-11-29",
          "2023-11-30",
          "2023-12-01",
          "2023-12-04",
          "2023-12-05",
          "2023-12-06",
          "2023-12-07",
          "2023-12-08",
          "2023-12-11",
          "2023-12-12",
          "2023-12-13",
          "2023-12-14",
          "2023-12-15",
          "2023-12-18",
          "2023-12-19",
          "2023-12-20",
          "2023-12-21",
          "2023-12-22",
          "2023-12-27",
          "2023-12-28",
          "2023-12-29",
          "2024-01-02",
          "2024-01-03",
          "2024-01-04",
          "2024-01-05",
          "2024-01-08",
          "2024-01-09",
          "2024-01-10",
          "2024-01-11",
          "2024-01-12",
          "2024-01-15",
          "2024-01-16",
          "2024-01-19"
         ],
         "xaxis": "x",
         "y": [
          0.17000000178813934,
          0.17499999701976776,
          0.17000000178813934,
          0.17499999701976776,
          0.17000000178813934,
          0.17000000178813934,
          0.17499999701976776,
          0.17499999701976776,
          0.17499999701976776,
          0.17000000178813934,
          0.16500000655651093,
          0.17499999701976776,
          0.16500000655651093,
          0.17000000178813934,
          0.16500000655651093,
          0.16500000655651093,
          0.17000000178813934,
          0.17000000178813934,
          0.17499999701976776,
          0.17000000178813934,
          0.17499999701976776,
          0.17000000178813934,
          0.16500000655651093,
          0.16500000655651093,
          0.16500000655651093,
          0.17000000178813934,
          0.16500000655651093,
          0.16500000655651093,
          0.17499999701976776,
          0.18000000715255737,
          0.17499999701976776,
          0.17499999701976776,
          0.18000000715255737,
          0.17499999701976776,
          0.17499999701976776,
          0.17499999701976776,
          0.17499999701976776,
          0.17499999701976776,
          0.17499999701976776
         ],
         "yaxis": "y"
        },
        {
         "name": "CIN",
         "type": "scatter",
         "x": [
          "2023-11-21",
          "2023-11-22",
          "2023-11-23",
          "2023-11-24",
          "2023-11-27",
          "2023-11-28",
          "2023-11-29",
          "2023-11-30",
          "2023-12-01",
          "2023-12-04",
          "2023-12-05",
          "2023-12-06",
          "2023-12-07",
          "2023-12-08",
          "2023-12-11",
          "2023-12-12",
          "2023-12-13",
          "2023-12-14",
          "2023-12-15",
          "2023-12-18",
          "2023-12-19",
          "2023-12-20",
          "2023-12-21",
          "2023-12-22",
          "2023-12-27",
          "2023-12-28",
          "2023-12-29",
          "2024-01-02",
          "2024-01-03",
          "2024-01-04",
          "2024-01-05",
          "2024-01-08",
          "2024-01-09",
          "2024-01-10",
          "2024-01-11",
          "2024-01-12",
          "2024-01-15",
          "2024-01-16",
          "2024-01-17",
          "2024-01-19"
         ],
         "xaxis": "x2",
         "y": [
          27.610000610351562,
          27.75,
          27.31999969482422,
          27.399999618530273,
          27.350000381469727,
          27.309999465942383,
          27.399999618530273,
          27.399999618530273,
          27.5,
          27.399999618530273,
          27.399999618530273,
          27.719999313354492,
          28.110000610351562,
          28.110000610351562,
          28.110000610351562,
          28.600000381469727,
          28.299999237060547,
          28.790000915527344,
          28.989999771118164,
          28.989999771118164,
          29.200000762939453,
          29.700000762939453,
          29.200000762939453,
          29.200000762939453,
          29.979999542236328,
          29.889999389648438,
          29.600000381469727,
          29.700000762939453,
          30.299999237060547,
          29.700000762939453,
          29.709999084472656,
          30,
          30.25,
          30.25,
          30,
          30,
          30.049999237060547,
          30.049999237060547,
          30,
          29.6200008392334
         ],
         "yaxis": "y2"
        },
        {
         "name": "GRR",
         "type": "scatter",
         "x": [
          "2023-11-21",
          "2023-11-22",
          "2023-11-23",
          "2023-11-24",
          "2023-11-27",
          "2023-11-28",
          "2023-11-29",
          "2023-11-30",
          "2023-12-01",
          "2023-12-04",
          "2023-12-05",
          "2023-12-06",
          "2023-12-07",
          "2023-12-08",
          "2023-12-11",
          "2023-12-12",
          "2023-12-13",
          "2023-12-14",
          "2023-12-15",
          "2023-12-18",
          "2023-12-19",
          "2023-12-20",
          "2023-12-21",
          "2023-12-22",
          "2023-12-27",
          "2023-12-28",
          "2023-12-29",
          "2024-01-02",
          "2024-01-03",
          "2024-01-04",
          "2024-01-05",
          "2024-01-08",
          "2024-01-09",
          "2024-01-10",
          "2024-01-11",
          "2024-01-12",
          "2024-01-15",
          "2024-01-16",
          "2024-01-19"
         ],
         "xaxis": "x3",
         "y": [
          0.5,
          0.48500001430511475,
          0.4699999988079071,
          0.4399999976158142,
          0.42500001192092896,
          0.4399999976158142,
          0.4449999928474426,
          0.4300000071525574,
          0.41999998688697815,
          0.4000000059604645,
          0.38499999046325684,
          0.38499999046325684,
          0.4099999964237213,
          0.4099999964237213,
          0.41499999165534973,
          0.39500001072883606,
          0.4050000011920929,
          0.4099999964237213,
          0.41999998688697815,
          0.4350000023841858,
          0.4350000023841858,
          0.4350000023841858,
          0.42500001192092896,
          0.4350000023841858,
          0.4650000035762787,
          0.4749999940395355,
          0.4650000035762787,
          0.5099999904632568,
          0.4950000047683716,
          0.47999998927116394,
          0.4950000047683716,
          0.4650000035762787,
          0.4699999988079071,
          0.46000000834465027,
          0.4650000035762787,
          0.4699999988079071,
          0.46000000834465027,
          0.4399999976158142,
          0.4399999976158142
         ],
         "yaxis": "y3"
        },
        {
         "name": "TBR",
         "type": "scatter",
         "x": [
          "2023-11-21",
          "2023-11-22",
          "2023-11-23",
          "2023-11-24",
          "2023-11-27",
          "2023-11-28",
          "2023-11-29",
          "2023-11-30",
          "2023-12-01",
          "2023-12-04",
          "2023-12-05",
          "2023-12-06",
          "2023-12-07",
          "2023-12-08",
          "2023-12-11",
          "2023-12-12",
          "2023-12-13",
          "2023-12-14",
          "2023-12-15",
          "2023-12-18",
          "2023-12-19",
          "2023-12-20",
          "2023-12-21",
          "2023-12-22",
          "2023-12-27",
          "2023-12-28",
          "2023-12-29",
          "2024-01-02",
          "2024-01-03",
          "2024-01-04",
          "2024-01-05",
          "2024-01-08",
          "2024-01-09",
          "2024-01-10",
          "2024-01-11",
          "2024-01-12",
          "2024-01-15",
          "2024-01-16",
          "2024-01-19"
         ],
         "xaxis": "x4",
         "y": [
          2.950000047683716,
          2.8499999046325684,
          2.7799999713897705,
          2.700000047683716,
          2.8499999046325684,
          2.799999952316284,
          2.950000047683716,
          2.700000047683716,
          2.75,
          2.880000114440918,
          2.6700000762939453,
          2.6700000762939453,
          2.6700000762939453,
          2.6700000762939453,
          2.6700000762939453,
          2.700000047683716,
          2.700000047683716,
          2.700000047683716,
          2.819999933242798,
          2.809999942779541,
          2.859999895095825,
          2.6700000762939453,
          2.680000066757202,
          2.819999933242798,
          2.819999933242798,
          2.859999895095825,
          2.950000047683716,
          2.950000047683716,
          2.950000047683716,
          2.940000057220459,
          2.869999885559082,
          2.859999895095825,
          2.859999895095825,
          2.9600000381469727,
          2.9600000381469727,
          2.9600000381469727,
          2.859999895095825,
          3.0299999713897705,
          2.930000066757202
         ],
         "yaxis": "y4"
        }
       ],
       "layout": {
        "height": 800,
        "shapes": [
         {
          "line": {
           "color": "black",
           "dash": "dot"
          },
          "type": "line",
          "x0": 0,
          "x1": 1,
          "xref": "x domain",
          "y0": 0.1850000023841858,
          "y1": 0.1850000023841858,
          "yref": "y"
         },
         {
          "line": {
           "color": "red",
           "dash": "dot"
          },
          "type": "line",
          "x0": 0,
          "x1": 1,
          "xref": "x domain",
          "y0": 0.18028000336885452,
          "y1": 0.18028000336885452,
          "yref": "y"
         },
         {
          "line": {
           "color": "green",
           "dash": "dot"
          },
          "type": "line",
          "x0": 0,
          "x1": 1,
          "xref": "x domain",
          "y0": 0.17500000447034836,
          "y1": 0.17500000447034836,
          "yref": "y"
         },
         {
          "line": {
           "color": "blue",
           "dash": "dot"
          },
          "type": "line",
          "x0": 0,
          "x1": 1,
          "xref": "x domain",
          "y0": 0.17264000496268272,
          "y1": 0.17264000496268272,
          "yref": "y"
         },
         {
          "line": {
           "color": "cyan",
           "dash": "dot"
          },
          "type": "line",
          "x0": 0,
          "x1": 1,
          "xref": "x domain",
          "y0": 0.16928000566363335,
          "y1": 0.16928000566363335,
          "yref": "y"
         },
         {
          "line": {
           "color": "magenta",
           "dash": "dot"
          },
          "type": "line",
          "x0": 0,
          "x1": 1,
          "xref": "x domain",
          "y0": 0.16500000655651093,
          "y1": 0.16500000655651093,
          "yref": "y"
         },
         {
          "line": {
           "color": "black",
           "dash": "dot"
          },
          "type": "line",
          "x0": 0,
          "x1": 1,
          "xref": "x2 domain",
          "y0": 30.5,
          "y1": 30.5,
          "yref": "y2"
         },
         {
          "line": {
           "color": "red",
           "dash": "dot"
          },
          "type": "line",
          "x0": 0,
          "x1": 1,
          "xref": "x2 domain",
          "y0": 29.737720108032228,
          "y1": 29.737720108032228,
          "yref": "y2"
         },
         {
          "line": {
           "color": "green",
           "dash": "dot"
          },
          "type": "line",
          "x0": 0,
          "x1": 1,
          "xref": "x2 domain",
          "y0": 28.885000228881836,
          "y1": 28.885000228881836,
          "yref": "y2"
         },
         {
          "line": {
           "color": "blue",
           "dash": "dot"
          },
          "type": "line",
          "x0": 0,
          "x1": 1,
          "xref": "x2 domain",
          "y0": 28.50386028289795,
          "y1": 28.50386028289795,
          "yref": "y2"
         },
         {
          "line": {
           "color": "cyan",
           "dash": "dot"
          },
          "type": "line",
          "x0": 0,
          "x1": 1,
          "xref": "x2 domain",
          "y0": 27.961220359802248,
          "y1": 27.961220359802248,
          "yref": "y2"
         },
         {
          "line": {
           "color": "magenta",
           "dash": "dot"
          },
          "type": "line",
          "x0": 0,
          "x1": 1,
          "xref": "x2 domain",
          "y0": 27.270000457763672,
          "y1": 27.270000457763672,
          "yref": "y2"
         },
         {
          "line": {
           "color": "black",
           "dash": "dot"
          },
          "type": "line",
          "x0": 0,
          "x1": 1,
          "xref": "x3 domain",
          "y0": 0.5099999904632568,
          "y1": 0.5099999904632568,
          "yref": "y3"
         },
         {
          "line": {
           "color": "red",
           "dash": "dot"
          },
          "type": "line",
          "x0": 0,
          "x1": 1,
          "xref": "x3 domain",
          "y0": 0.48167998933792117,
          "y1": 0.48167998933792117,
          "yref": "y3"
         },
         {
          "line": {
           "color": "green",
           "dash": "dot"
          },
          "type": "line",
          "x0": 0,
          "x1": 1,
          "xref": "x3 domain",
          "y0": 0.44999998807907104,
          "y1": 0.44999998807907104,
          "yref": "y3"
         },
         {
          "line": {
           "color": "blue",
           "dash": "dot"
          },
          "type": "line",
          "x0": 0,
          "x1": 1,
          "xref": "x3 domain",
          "y0": 0.4358399875164032,
          "y1": 0.4358399875164032,
          "yref": "y3"
         },
         {
          "line": {
           "color": "cyan",
           "dash": "dot"
          },
          "type": "line",
          "x0": 0,
          "x1": 1,
          "xref": "x3 domain",
          "y0": 0.41567998671531675,
          "y1": 0.41567998671531675,
          "yref": "y3"
         },
         {
          "line": {
           "color": "magenta",
           "dash": "dot"
          },
          "type": "line",
          "x0": 0,
          "x1": 1,
          "xref": "x3 domain",
          "y0": 0.38999998569488525,
          "y1": 0.38999998569488525,
          "yref": "y3"
         },
         {
          "line": {
           "color": "black",
           "dash": "dot"
          },
          "type": "line",
          "x0": 0,
          "x1": 1,
          "xref": "x4 domain",
          "y0": 3.0299999713897705,
          "y1": 3.0299999713897705,
          "yref": "y4"
         },
         {
          "line": {
           "color": "red",
           "dash": "dot"
          },
          "type": "line",
          "x0": 0,
          "x1": 1,
          "xref": "x4 domain",
          "y0": 2.9001999826431275,
          "y1": 2.9001999826431275,
          "yref": "y4"
         },
         {
          "line": {
           "color": "green",
           "dash": "dot"
          },
          "type": "line",
          "x0": 0,
          "x1": 1,
          "xref": "x4 domain",
          "y0": 2.7549999952316284,
          "y1": 2.7549999952316284,
          "yref": "y4"
         },
         {
          "line": {
           "color": "blue",
           "dash": "dot"
          },
          "type": "line",
          "x0": 0,
          "x1": 1,
          "xref": "x4 domain",
          "y0": 2.690100000858307,
          "y1": 2.690100000858307,
          "yref": "y4"
         },
         {
          "line": {
           "color": "cyan",
           "dash": "dot"
          },
          "type": "line",
          "x0": 0,
          "x1": 1,
          "xref": "x4 domain",
          "y0": 2.5977000088691713,
          "y1": 2.5977000088691713,
          "yref": "y4"
         },
         {
          "line": {
           "color": "magenta",
           "dash": "dot"
          },
          "type": "line",
          "x0": 0,
          "x1": 1,
          "xref": "x4 domain",
          "y0": 2.4800000190734863,
          "y1": 2.4800000190734863,
          "yref": "y4"
         }
        ],
        "template": {
         "data": {
          "bar": [
           {
            "error_x": {
             "color": "#2a3f5f"
            },
            "error_y": {
             "color": "#2a3f5f"
            },
            "marker": {
             "line": {
              "color": "#E5ECF6",
              "width": 0.5
             },
             "pattern": {
              "fillmode": "overlay",
              "size": 10,
              "solidity": 0.2
             }
            },
            "type": "bar"
           }
          ],
          "barpolar": [
           {
            "marker": {
             "line": {
              "color": "#E5ECF6",
              "width": 0.5
             },
             "pattern": {
              "fillmode": "overlay",
              "size": 10,
              "solidity": 0.2
             }
            },
            "type": "barpolar"
           }
          ],
          "carpet": [
           {
            "aaxis": {
             "endlinecolor": "#2a3f5f",
             "gridcolor": "white",
             "linecolor": "white",
             "minorgridcolor": "white",
             "startlinecolor": "#2a3f5f"
            },
            "baxis": {
             "endlinecolor": "#2a3f5f",
             "gridcolor": "white",
             "linecolor": "white",
             "minorgridcolor": "white",
             "startlinecolor": "#2a3f5f"
            },
            "type": "carpet"
           }
          ],
          "choropleth": [
           {
            "colorbar": {
             "outlinewidth": 0,
             "ticks": ""
            },
            "type": "choropleth"
           }
          ],
          "contour": [
           {
            "colorbar": {
             "outlinewidth": 0,
             "ticks": ""
            },
            "colorscale": [
             [
              0,
              "#0d0887"
             ],
             [
              0.1111111111111111,
              "#46039f"
             ],
             [
              0.2222222222222222,
              "#7201a8"
             ],
             [
              0.3333333333333333,
              "#9c179e"
             ],
             [
              0.4444444444444444,
              "#bd3786"
             ],
             [
              0.5555555555555556,
              "#d8576b"
             ],
             [
              0.6666666666666666,
              "#ed7953"
             ],
             [
              0.7777777777777778,
              "#fb9f3a"
             ],
             [
              0.8888888888888888,
              "#fdca26"
             ],
             [
              1,
              "#f0f921"
             ]
            ],
            "type": "contour"
           }
          ],
          "contourcarpet": [
           {
            "colorbar": {
             "outlinewidth": 0,
             "ticks": ""
            },
            "type": "contourcarpet"
           }
          ],
          "heatmap": [
           {
            "colorbar": {
             "outlinewidth": 0,
             "ticks": ""
            },
            "colorscale": [
             [
              0,
              "#0d0887"
             ],
             [
              0.1111111111111111,
              "#46039f"
             ],
             [
              0.2222222222222222,
              "#7201a8"
             ],
             [
              0.3333333333333333,
              "#9c179e"
             ],
             [
              0.4444444444444444,
              "#bd3786"
             ],
             [
              0.5555555555555556,
              "#d8576b"
             ],
             [
              0.6666666666666666,
              "#ed7953"
             ],
             [
              0.7777777777777778,
              "#fb9f3a"
             ],
             [
              0.8888888888888888,
              "#fdca26"
             ],
             [
              1,
              "#f0f921"
             ]
            ],
            "type": "heatmap"
           }
          ],
          "heatmapgl": [
           {
            "colorbar": {
             "outlinewidth": 0,
             "ticks": ""
            },
            "colorscale": [
             [
              0,
              "#0d0887"
             ],
             [
              0.1111111111111111,
              "#46039f"
             ],
             [
              0.2222222222222222,
              "#7201a8"
             ],
             [
              0.3333333333333333,
              "#9c179e"
             ],
             [
              0.4444444444444444,
              "#bd3786"
             ],
             [
              0.5555555555555556,
              "#d8576b"
             ],
             [
              0.6666666666666666,
              "#ed7953"
             ],
             [
              0.7777777777777778,
              "#fb9f3a"
             ],
             [
              0.8888888888888888,
              "#fdca26"
             ],
             [
              1,
              "#f0f921"
             ]
            ],
            "type": "heatmapgl"
           }
          ],
          "histogram": [
           {
            "marker": {
             "pattern": {
              "fillmode": "overlay",
              "size": 10,
              "solidity": 0.2
             }
            },
            "type": "histogram"
           }
          ],
          "histogram2d": [
           {
            "colorbar": {
             "outlinewidth": 0,
             "ticks": ""
            },
            "colorscale": [
             [
              0,
              "#0d0887"
             ],
             [
              0.1111111111111111,
              "#46039f"
             ],
             [
              0.2222222222222222,
              "#7201a8"
             ],
             [
              0.3333333333333333,
              "#9c179e"
             ],
             [
              0.4444444444444444,
              "#bd3786"
             ],
             [
              0.5555555555555556,
              "#d8576b"
             ],
             [
              0.6666666666666666,
              "#ed7953"
             ],
             [
              0.7777777777777778,
              "#fb9f3a"
             ],
             [
              0.8888888888888888,
              "#fdca26"
             ],
             [
              1,
              "#f0f921"
             ]
            ],
            "type": "histogram2d"
           }
          ],
          "histogram2dcontour": [
           {
            "colorbar": {
             "outlinewidth": 0,
             "ticks": ""
            },
            "colorscale": [
             [
              0,
              "#0d0887"
             ],
             [
              0.1111111111111111,
              "#46039f"
             ],
             [
              0.2222222222222222,
              "#7201a8"
             ],
             [
              0.3333333333333333,
              "#9c179e"
             ],
             [
              0.4444444444444444,
              "#bd3786"
             ],
             [
              0.5555555555555556,
              "#d8576b"
             ],
             [
              0.6666666666666666,
              "#ed7953"
             ],
             [
              0.7777777777777778,
              "#fb9f3a"
             ],
             [
              0.8888888888888888,
              "#fdca26"
             ],
             [
              1,
              "#f0f921"
             ]
            ],
            "type": "histogram2dcontour"
           }
          ],
          "mesh3d": [
           {
            "colorbar": {
             "outlinewidth": 0,
             "ticks": ""
            },
            "type": "mesh3d"
           }
          ],
          "parcoords": [
           {
            "line": {
             "colorbar": {
              "outlinewidth": 0,
              "ticks": ""
             }
            },
            "type": "parcoords"
           }
          ],
          "pie": [
           {
            "automargin": true,
            "type": "pie"
           }
          ],
          "scatter": [
           {
            "fillpattern": {
             "fillmode": "overlay",
             "size": 10,
             "solidity": 0.2
            },
            "type": "scatter"
           }
          ],
          "scatter3d": [
           {
            "line": {
             "colorbar": {
              "outlinewidth": 0,
              "ticks": ""
             }
            },
            "marker": {
             "colorbar": {
              "outlinewidth": 0,
              "ticks": ""
             }
            },
            "type": "scatter3d"
           }
          ],
          "scattercarpet": [
           {
            "marker": {
             "colorbar": {
              "outlinewidth": 0,
              "ticks": ""
             }
            },
            "type": "scattercarpet"
           }
          ],
          "scattergeo": [
           {
            "marker": {
             "colorbar": {
              "outlinewidth": 0,
              "ticks": ""
             }
            },
            "type": "scattergeo"
           }
          ],
          "scattergl": [
           {
            "marker": {
             "colorbar": {
              "outlinewidth": 0,
              "ticks": ""
             }
            },
            "type": "scattergl"
           }
          ],
          "scattermapbox": [
           {
            "marker": {
             "colorbar": {
              "outlinewidth": 0,
              "ticks": ""
             }
            },
            "type": "scattermapbox"
           }
          ],
          "scatterpolar": [
           {
            "marker": {
             "colorbar": {
              "outlinewidth": 0,
              "ticks": ""
             }
            },
            "type": "scatterpolar"
           }
          ],
          "scatterpolargl": [
           {
            "marker": {
             "colorbar": {
              "outlinewidth": 0,
              "ticks": ""
             }
            },
            "type": "scatterpolargl"
           }
          ],
          "scatterternary": [
           {
            "marker": {
             "colorbar": {
              "outlinewidth": 0,
              "ticks": ""
             }
            },
            "type": "scatterternary"
           }
          ],
          "surface": [
           {
            "colorbar": {
             "outlinewidth": 0,
             "ticks": ""
            },
            "colorscale": [
             [
              0,
              "#0d0887"
             ],
             [
              0.1111111111111111,
              "#46039f"
             ],
             [
              0.2222222222222222,
              "#7201a8"
             ],
             [
              0.3333333333333333,
              "#9c179e"
             ],
             [
              0.4444444444444444,
              "#bd3786"
             ],
             [
              0.5555555555555556,
              "#d8576b"
             ],
             [
              0.6666666666666666,
              "#ed7953"
             ],
             [
              0.7777777777777778,
              "#fb9f3a"
             ],
             [
              0.8888888888888888,
              "#fdca26"
             ],
             [
              1,
              "#f0f921"
             ]
            ],
            "type": "surface"
           }
          ],
          "table": [
           {
            "cells": {
             "fill": {
              "color": "#EBF0F8"
             },
             "line": {
              "color": "white"
             }
            },
            "header": {
             "fill": {
              "color": "#C8D4E3"
             },
             "line": {
              "color": "white"
             }
            },
            "type": "table"
           }
          ]
         },
         "layout": {
          "annotationdefaults": {
           "arrowcolor": "#2a3f5f",
           "arrowhead": 0,
           "arrowwidth": 1
          },
          "autotypenumbers": "strict",
          "coloraxis": {
           "colorbar": {
            "outlinewidth": 0,
            "ticks": ""
           }
          },
          "colorscale": {
           "diverging": [
            [
             0,
             "#8e0152"
            ],
            [
             0.1,
             "#c51b7d"
            ],
            [
             0.2,
             "#de77ae"
            ],
            [
             0.3,
             "#f1b6da"
            ],
            [
             0.4,
             "#fde0ef"
            ],
            [
             0.5,
             "#f7f7f7"
            ],
            [
             0.6,
             "#e6f5d0"
            ],
            [
             0.7,
             "#b8e186"
            ],
            [
             0.8,
             "#7fbc41"
            ],
            [
             0.9,
             "#4d9221"
            ],
            [
             1,
             "#276419"
            ]
           ],
           "sequential": [
            [
             0,
             "#0d0887"
            ],
            [
             0.1111111111111111,
             "#46039f"
            ],
            [
             0.2222222222222222,
             "#7201a8"
            ],
            [
             0.3333333333333333,
             "#9c179e"
            ],
            [
             0.4444444444444444,
             "#bd3786"
            ],
            [
             0.5555555555555556,
             "#d8576b"
            ],
            [
             0.6666666666666666,
             "#ed7953"
            ],
            [
             0.7777777777777778,
             "#fb9f3a"
            ],
            [
             0.8888888888888888,
             "#fdca26"
            ],
            [
             1,
             "#f0f921"
            ]
           ],
           "sequentialminus": [
            [
             0,
             "#0d0887"
            ],
            [
             0.1111111111111111,
             "#46039f"
            ],
            [
             0.2222222222222222,
             "#7201a8"
            ],
            [
             0.3333333333333333,
             "#9c179e"
            ],
            [
             0.4444444444444444,
             "#bd3786"
            ],
            [
             0.5555555555555556,
             "#d8576b"
            ],
            [
             0.6666666666666666,
             "#ed7953"
            ],
            [
             0.7777777777777778,
             "#fb9f3a"
            ],
            [
             0.8888888888888888,
             "#fdca26"
            ],
            [
             1,
             "#f0f921"
            ]
           ]
          },
          "colorway": [
           "#636efa",
           "#EF553B",
           "#00cc96",
           "#ab63fa",
           "#FFA15A",
           "#19d3f3",
           "#FF6692",
           "#B6E880",
           "#FF97FF",
           "#FECB52"
          ],
          "font": {
           "color": "#2a3f5f"
          },
          "geo": {
           "bgcolor": "white",
           "lakecolor": "white",
           "landcolor": "#E5ECF6",
           "showlakes": true,
           "showland": true,
           "subunitcolor": "white"
          },
          "hoverlabel": {
           "align": "left"
          },
          "hovermode": "closest",
          "mapbox": {
           "style": "light"
          },
          "paper_bgcolor": "white",
          "plot_bgcolor": "#E5ECF6",
          "polar": {
           "angularaxis": {
            "gridcolor": "white",
            "linecolor": "white",
            "ticks": ""
           },
           "bgcolor": "#E5ECF6",
           "radialaxis": {
            "gridcolor": "white",
            "linecolor": "white",
            "ticks": ""
           }
          },
          "scene": {
           "xaxis": {
            "backgroundcolor": "#E5ECF6",
            "gridcolor": "white",
            "gridwidth": 2,
            "linecolor": "white",
            "showbackground": true,
            "ticks": "",
            "zerolinecolor": "white"
           },
           "yaxis": {
            "backgroundcolor": "#E5ECF6",
            "gridcolor": "white",
            "gridwidth": 2,
            "linecolor": "white",
            "showbackground": true,
            "ticks": "",
            "zerolinecolor": "white"
           },
           "zaxis": {
            "backgroundcolor": "#E5ECF6",
            "gridcolor": "white",
            "gridwidth": 2,
            "linecolor": "white",
            "showbackground": true,
            "ticks": "",
            "zerolinecolor": "white"
           }
          },
          "shapedefaults": {
           "line": {
            "color": "#2a3f5f"
           }
          },
          "ternary": {
           "aaxis": {
            "gridcolor": "white",
            "linecolor": "white",
            "ticks": ""
           },
           "baxis": {
            "gridcolor": "white",
            "linecolor": "white",
            "ticks": ""
           },
           "bgcolor": "#E5ECF6",
           "caxis": {
            "gridcolor": "white",
            "linecolor": "white",
            "ticks": ""
           }
          },
          "title": {
           "x": 0.05
          },
          "xaxis": {
           "automargin": true,
           "gridcolor": "white",
           "linecolor": "white",
           "ticks": "",
           "title": {
            "standoff": 15
           },
           "zerolinecolor": "white",
           "zerolinewidth": 2
          },
          "yaxis": {
           "automargin": true,
           "gridcolor": "white",
           "linecolor": "white",
           "ticks": "",
           "title": {
            "standoff": 15
           },
           "zerolinecolor": "white",
           "zerolinewidth": 2
          }
         }
        },
        "xaxis": {
         "anchor": "y",
         "domain": [
          0,
          0.45
         ],
         "range": [
          "2023-11-21",
          "2024-01-19"
         ]
        },
        "xaxis2": {
         "anchor": "y2",
         "domain": [
          0.55,
          1
         ],
         "range": [
          "2023-11-21",
          "2024-01-19"
         ]
        },
        "xaxis3": {
         "anchor": "y3",
         "domain": [
          0,
          0.45
         ],
         "range": [
          "2023-11-21",
          "2024-01-19"
         ]
        },
        "xaxis4": {
         "anchor": "y4",
         "domain": [
          0.55,
          1
         ],
         "range": [
          "2023-11-21",
          "2024-01-19"
         ]
        },
        "yaxis": {
         "anchor": "x",
         "domain": [
          0.575,
          1
         ]
        },
        "yaxis2": {
         "anchor": "x2",
         "domain": [
          0.575,
          1
         ]
        },
        "yaxis3": {
         "anchor": "x3",
         "domain": [
          0,
          0.425
         ]
        },
        "yaxis4": {
         "anchor": "x4",
         "domain": [
          0,
          0.425
         ]
        }
       }
      },
      "text/html": [
       "<div>                            <div id=\"2053dcca-659e-4c1e-8342-18c7cc1b8f28\" class=\"plotly-graph-div\" style=\"height:800px; width:100%;\"></div>            <script type=\"text/javascript\">                require([\"plotly\"], function(Plotly) {                    window.PLOTLYENV=window.PLOTLYENV || {};                                    if (document.getElementById(\"2053dcca-659e-4c1e-8342-18c7cc1b8f28\")) {                    Plotly.newPlot(                        \"2053dcca-659e-4c1e-8342-18c7cc1b8f28\",                        [{\"name\":\"JMS\",\"x\":[\"2023-11-21\",\"2023-11-22\",\"2023-11-23\",\"2023-11-24\",\"2023-11-27\",\"2023-11-28\",\"2023-11-29\",\"2023-11-30\",\"2023-12-01\",\"2023-12-04\",\"2023-12-05\",\"2023-12-06\",\"2023-12-07\",\"2023-12-08\",\"2023-12-11\",\"2023-12-12\",\"2023-12-13\",\"2023-12-14\",\"2023-12-15\",\"2023-12-18\",\"2023-12-19\",\"2023-12-20\",\"2023-12-21\",\"2023-12-22\",\"2023-12-27\",\"2023-12-28\",\"2023-12-29\",\"2024-01-02\",\"2024-01-03\",\"2024-01-04\",\"2024-01-05\",\"2024-01-08\",\"2024-01-09\",\"2024-01-10\",\"2024-01-11\",\"2024-01-12\",\"2024-01-15\",\"2024-01-16\",\"2024-01-19\"],\"y\":[0.17000000178813934,0.17499999701976776,0.17000000178813934,0.17499999701976776,0.17000000178813934,0.17000000178813934,0.17499999701976776,0.17499999701976776,0.17499999701976776,0.17000000178813934,0.16500000655651093,0.17499999701976776,0.16500000655651093,0.17000000178813934,0.16500000655651093,0.16500000655651093,0.17000000178813934,0.17000000178813934,0.17499999701976776,0.17000000178813934,0.17499999701976776,0.17000000178813934,0.16500000655651093,0.16500000655651093,0.16500000655651093,0.17000000178813934,0.16500000655651093,0.16500000655651093,0.17499999701976776,0.18000000715255737,0.17499999701976776,0.17499999701976776,0.18000000715255737,0.17499999701976776,0.17499999701976776,0.17499999701976776,0.17499999701976776,0.17499999701976776,0.17499999701976776],\"type\":\"scatter\",\"xaxis\":\"x\",\"yaxis\":\"y\"},{\"name\":\"CIN\",\"x\":[\"2023-11-21\",\"2023-11-22\",\"2023-11-23\",\"2023-11-24\",\"2023-11-27\",\"2023-11-28\",\"2023-11-29\",\"2023-11-30\",\"2023-12-01\",\"2023-12-04\",\"2023-12-05\",\"2023-12-06\",\"2023-12-07\",\"2023-12-08\",\"2023-12-11\",\"2023-12-12\",\"2023-12-13\",\"2023-12-14\",\"2023-12-15\",\"2023-12-18\",\"2023-12-19\",\"2023-12-20\",\"2023-12-21\",\"2023-12-22\",\"2023-12-27\",\"2023-12-28\",\"2023-12-29\",\"2024-01-02\",\"2024-01-03\",\"2024-01-04\",\"2024-01-05\",\"2024-01-08\",\"2024-01-09\",\"2024-01-10\",\"2024-01-11\",\"2024-01-12\",\"2024-01-15\",\"2024-01-16\",\"2024-01-17\",\"2024-01-19\"],\"y\":[27.610000610351562,27.75,27.31999969482422,27.399999618530273,27.350000381469727,27.309999465942383,27.399999618530273,27.399999618530273,27.5,27.399999618530273,27.399999618530273,27.719999313354492,28.110000610351562,28.110000610351562,28.110000610351562,28.600000381469727,28.299999237060547,28.790000915527344,28.989999771118164,28.989999771118164,29.200000762939453,29.700000762939453,29.200000762939453,29.200000762939453,29.979999542236328,29.889999389648438,29.600000381469727,29.700000762939453,30.299999237060547,29.700000762939453,29.709999084472656,30.0,30.25,30.25,30.0,30.0,30.049999237060547,30.049999237060547,30.0,29.6200008392334],\"type\":\"scatter\",\"xaxis\":\"x2\",\"yaxis\":\"y2\"},{\"name\":\"GRR\",\"x\":[\"2023-11-21\",\"2023-11-22\",\"2023-11-23\",\"2023-11-24\",\"2023-11-27\",\"2023-11-28\",\"2023-11-29\",\"2023-11-30\",\"2023-12-01\",\"2023-12-04\",\"2023-12-05\",\"2023-12-06\",\"2023-12-07\",\"2023-12-08\",\"2023-12-11\",\"2023-12-12\",\"2023-12-13\",\"2023-12-14\",\"2023-12-15\",\"2023-12-18\",\"2023-12-19\",\"2023-12-20\",\"2023-12-21\",\"2023-12-22\",\"2023-12-27\",\"2023-12-28\",\"2023-12-29\",\"2024-01-02\",\"2024-01-03\",\"2024-01-04\",\"2024-01-05\",\"2024-01-08\",\"2024-01-09\",\"2024-01-10\",\"2024-01-11\",\"2024-01-12\",\"2024-01-15\",\"2024-01-16\",\"2024-01-19\"],\"y\":[0.5,0.48500001430511475,0.4699999988079071,0.4399999976158142,0.42500001192092896,0.4399999976158142,0.4449999928474426,0.4300000071525574,0.41999998688697815,0.4000000059604645,0.38499999046325684,0.38499999046325684,0.4099999964237213,0.4099999964237213,0.41499999165534973,0.39500001072883606,0.4050000011920929,0.4099999964237213,0.41999998688697815,0.4350000023841858,0.4350000023841858,0.4350000023841858,0.42500001192092896,0.4350000023841858,0.4650000035762787,0.4749999940395355,0.4650000035762787,0.5099999904632568,0.4950000047683716,0.47999998927116394,0.4950000047683716,0.4650000035762787,0.4699999988079071,0.46000000834465027,0.4650000035762787,0.4699999988079071,0.46000000834465027,0.4399999976158142,0.4399999976158142],\"type\":\"scatter\",\"xaxis\":\"x3\",\"yaxis\":\"y3\"},{\"name\":\"TBR\",\"x\":[\"2023-11-21\",\"2023-11-22\",\"2023-11-23\",\"2023-11-24\",\"2023-11-27\",\"2023-11-28\",\"2023-11-29\",\"2023-11-30\",\"2023-12-01\",\"2023-12-04\",\"2023-12-05\",\"2023-12-06\",\"2023-12-07\",\"2023-12-08\",\"2023-12-11\",\"2023-12-12\",\"2023-12-13\",\"2023-12-14\",\"2023-12-15\",\"2023-12-18\",\"2023-12-19\",\"2023-12-20\",\"2023-12-21\",\"2023-12-22\",\"2023-12-27\",\"2023-12-28\",\"2023-12-29\",\"2024-01-02\",\"2024-01-03\",\"2024-01-04\",\"2024-01-05\",\"2024-01-08\",\"2024-01-09\",\"2024-01-10\",\"2024-01-11\",\"2024-01-12\",\"2024-01-15\",\"2024-01-16\",\"2024-01-19\"],\"y\":[2.950000047683716,2.8499999046325684,2.7799999713897705,2.700000047683716,2.8499999046325684,2.799999952316284,2.950000047683716,2.700000047683716,2.75,2.880000114440918,2.6700000762939453,2.6700000762939453,2.6700000762939453,2.6700000762939453,2.6700000762939453,2.700000047683716,2.700000047683716,2.700000047683716,2.819999933242798,2.809999942779541,2.859999895095825,2.6700000762939453,2.680000066757202,2.819999933242798,2.819999933242798,2.859999895095825,2.950000047683716,2.950000047683716,2.950000047683716,2.940000057220459,2.869999885559082,2.859999895095825,2.859999895095825,2.9600000381469727,2.9600000381469727,2.9600000381469727,2.859999895095825,3.0299999713897705,2.930000066757202],\"type\":\"scatter\",\"xaxis\":\"x4\",\"yaxis\":\"y4\"}],                        {\"template\":{\"data\":{\"histogram2dcontour\":[{\"type\":\"histogram2dcontour\",\"colorbar\":{\"outlinewidth\":0,\"ticks\":\"\"},\"colorscale\":[[0.0,\"#0d0887\"],[0.1111111111111111,\"#46039f\"],[0.2222222222222222,\"#7201a8\"],[0.3333333333333333,\"#9c179e\"],[0.4444444444444444,\"#bd3786\"],[0.5555555555555556,\"#d8576b\"],[0.6666666666666666,\"#ed7953\"],[0.7777777777777778,\"#fb9f3a\"],[0.8888888888888888,\"#fdca26\"],[1.0,\"#f0f921\"]]}],\"choropleth\":[{\"type\":\"choropleth\",\"colorbar\":{\"outlinewidth\":0,\"ticks\":\"\"}}],\"histogram2d\":[{\"type\":\"histogram2d\",\"colorbar\":{\"outlinewidth\":0,\"ticks\":\"\"},\"colorscale\":[[0.0,\"#0d0887\"],[0.1111111111111111,\"#46039f\"],[0.2222222222222222,\"#7201a8\"],[0.3333333333333333,\"#9c179e\"],[0.4444444444444444,\"#bd3786\"],[0.5555555555555556,\"#d8576b\"],[0.6666666666666666,\"#ed7953\"],[0.7777777777777778,\"#fb9f3a\"],[0.8888888888888888,\"#fdca26\"],[1.0,\"#f0f921\"]]}],\"heatmap\":[{\"type\":\"heatmap\",\"colorbar\":{\"outlinewidth\":0,\"ticks\":\"\"},\"colorscale\":[[0.0,\"#0d0887\"],[0.1111111111111111,\"#46039f\"],[0.2222222222222222,\"#7201a8\"],[0.3333333333333333,\"#9c179e\"],[0.4444444444444444,\"#bd3786\"],[0.5555555555555556,\"#d8576b\"],[0.6666666666666666,\"#ed7953\"],[0.7777777777777778,\"#fb9f3a\"],[0.8888888888888888,\"#fdca26\"],[1.0,\"#f0f921\"]]}],\"heatmapgl\":[{\"type\":\"heatmapgl\",\"colorbar\":{\"outlinewidth\":0,\"ticks\":\"\"},\"colorscale\":[[0.0,\"#0d0887\"],[0.1111111111111111,\"#46039f\"],[0.2222222222222222,\"#7201a8\"],[0.3333333333333333,\"#9c179e\"],[0.4444444444444444,\"#bd3786\"],[0.5555555555555556,\"#d8576b\"],[0.6666666666666666,\"#ed7953\"],[0.7777777777777778,\"#fb9f3a\"],[0.8888888888888888,\"#fdca26\"],[1.0,\"#f0f921\"]]}],\"contourcarpet\":[{\"type\":\"contourcarpet\",\"colorbar\":{\"outlinewidth\":0,\"ticks\":\"\"}}],\"contour\":[{\"type\":\"contour\",\"colorbar\":{\"outlinewidth\":0,\"ticks\":\"\"},\"colorscale\":[[0.0,\"#0d0887\"],[0.1111111111111111,\"#46039f\"],[0.2222222222222222,\"#7201a8\"],[0.3333333333333333,\"#9c179e\"],[0.4444444444444444,\"#bd3786\"],[0.5555555555555556,\"#d8576b\"],[0.6666666666666666,\"#ed7953\"],[0.7777777777777778,\"#fb9f3a\"],[0.8888888888888888,\"#fdca26\"],[1.0,\"#f0f921\"]]}],\"surface\":[{\"type\":\"surface\",\"colorbar\":{\"outlinewidth\":0,\"ticks\":\"\"},\"colorscale\":[[0.0,\"#0d0887\"],[0.1111111111111111,\"#46039f\"],[0.2222222222222222,\"#7201a8\"],[0.3333333333333333,\"#9c179e\"],[0.4444444444444444,\"#bd3786\"],[0.5555555555555556,\"#d8576b\"],[0.6666666666666666,\"#ed7953\"],[0.7777777777777778,\"#fb9f3a\"],[0.8888888888888888,\"#fdca26\"],[1.0,\"#f0f921\"]]}],\"mesh3d\":[{\"type\":\"mesh3d\",\"colorbar\":{\"outlinewidth\":0,\"ticks\":\"\"}}],\"scatter\":[{\"fillpattern\":{\"fillmode\":\"overlay\",\"size\":10,\"solidity\":0.2},\"type\":\"scatter\"}],\"parcoords\":[{\"type\":\"parcoords\",\"line\":{\"colorbar\":{\"outlinewidth\":0,\"ticks\":\"\"}}}],\"scatterpolargl\":[{\"type\":\"scatterpolargl\",\"marker\":{\"colorbar\":{\"outlinewidth\":0,\"ticks\":\"\"}}}],\"bar\":[{\"error_x\":{\"color\":\"#2a3f5f\"},\"error_y\":{\"color\":\"#2a3f5f\"},\"marker\":{\"line\":{\"color\":\"#E5ECF6\",\"width\":0.5},\"pattern\":{\"fillmode\":\"overlay\",\"size\":10,\"solidity\":0.2}},\"type\":\"bar\"}],\"scattergeo\":[{\"type\":\"scattergeo\",\"marker\":{\"colorbar\":{\"outlinewidth\":0,\"ticks\":\"\"}}}],\"scatterpolar\":[{\"type\":\"scatterpolar\",\"marker\":{\"colorbar\":{\"outlinewidth\":0,\"ticks\":\"\"}}}],\"histogram\":[{\"marker\":{\"pattern\":{\"fillmode\":\"overlay\",\"size\":10,\"solidity\":0.2}},\"type\":\"histogram\"}],\"scattergl\":[{\"type\":\"scattergl\",\"marker\":{\"colorbar\":{\"outlinewidth\":0,\"ticks\":\"\"}}}],\"scatter3d\":[{\"type\":\"scatter3d\",\"line\":{\"colorbar\":{\"outlinewidth\":0,\"ticks\":\"\"}},\"marker\":{\"colorbar\":{\"outlinewidth\":0,\"ticks\":\"\"}}}],\"scattermapbox\":[{\"type\":\"scattermapbox\",\"marker\":{\"colorbar\":{\"outlinewidth\":0,\"ticks\":\"\"}}}],\"scatterternary\":[{\"type\":\"scatterternary\",\"marker\":{\"colorbar\":{\"outlinewidth\":0,\"ticks\":\"\"}}}],\"scattercarpet\":[{\"type\":\"scattercarpet\",\"marker\":{\"colorbar\":{\"outlinewidth\":0,\"ticks\":\"\"}}}],\"carpet\":[{\"aaxis\":{\"endlinecolor\":\"#2a3f5f\",\"gridcolor\":\"white\",\"linecolor\":\"white\",\"minorgridcolor\":\"white\",\"startlinecolor\":\"#2a3f5f\"},\"baxis\":{\"endlinecolor\":\"#2a3f5f\",\"gridcolor\":\"white\",\"linecolor\":\"white\",\"minorgridcolor\":\"white\",\"startlinecolor\":\"#2a3f5f\"},\"type\":\"carpet\"}],\"table\":[{\"cells\":{\"fill\":{\"color\":\"#EBF0F8\"},\"line\":{\"color\":\"white\"}},\"header\":{\"fill\":{\"color\":\"#C8D4E3\"},\"line\":{\"color\":\"white\"}},\"type\":\"table\"}],\"barpolar\":[{\"marker\":{\"line\":{\"color\":\"#E5ECF6\",\"width\":0.5},\"pattern\":{\"fillmode\":\"overlay\",\"size\":10,\"solidity\":0.2}},\"type\":\"barpolar\"}],\"pie\":[{\"automargin\":true,\"type\":\"pie\"}]},\"layout\":{\"autotypenumbers\":\"strict\",\"colorway\":[\"#636efa\",\"#EF553B\",\"#00cc96\",\"#ab63fa\",\"#FFA15A\",\"#19d3f3\",\"#FF6692\",\"#B6E880\",\"#FF97FF\",\"#FECB52\"],\"font\":{\"color\":\"#2a3f5f\"},\"hovermode\":\"closest\",\"hoverlabel\":{\"align\":\"left\"},\"paper_bgcolor\":\"white\",\"plot_bgcolor\":\"#E5ECF6\",\"polar\":{\"bgcolor\":\"#E5ECF6\",\"angularaxis\":{\"gridcolor\":\"white\",\"linecolor\":\"white\",\"ticks\":\"\"},\"radialaxis\":{\"gridcolor\":\"white\",\"linecolor\":\"white\",\"ticks\":\"\"}},\"ternary\":{\"bgcolor\":\"#E5ECF6\",\"aaxis\":{\"gridcolor\":\"white\",\"linecolor\":\"white\",\"ticks\":\"\"},\"baxis\":{\"gridcolor\":\"white\",\"linecolor\":\"white\",\"ticks\":\"\"},\"caxis\":{\"gridcolor\":\"white\",\"linecolor\":\"white\",\"ticks\":\"\"}},\"coloraxis\":{\"colorbar\":{\"outlinewidth\":0,\"ticks\":\"\"}},\"colorscale\":{\"sequential\":[[0.0,\"#0d0887\"],[0.1111111111111111,\"#46039f\"],[0.2222222222222222,\"#7201a8\"],[0.3333333333333333,\"#9c179e\"],[0.4444444444444444,\"#bd3786\"],[0.5555555555555556,\"#d8576b\"],[0.6666666666666666,\"#ed7953\"],[0.7777777777777778,\"#fb9f3a\"],[0.8888888888888888,\"#fdca26\"],[1.0,\"#f0f921\"]],\"sequentialminus\":[[0.0,\"#0d0887\"],[0.1111111111111111,\"#46039f\"],[0.2222222222222222,\"#7201a8\"],[0.3333333333333333,\"#9c179e\"],[0.4444444444444444,\"#bd3786\"],[0.5555555555555556,\"#d8576b\"],[0.6666666666666666,\"#ed7953\"],[0.7777777777777778,\"#fb9f3a\"],[0.8888888888888888,\"#fdca26\"],[1.0,\"#f0f921\"]],\"diverging\":[[0,\"#8e0152\"],[0.1,\"#c51b7d\"],[0.2,\"#de77ae\"],[0.3,\"#f1b6da\"],[0.4,\"#fde0ef\"],[0.5,\"#f7f7f7\"],[0.6,\"#e6f5d0\"],[0.7,\"#b8e186\"],[0.8,\"#7fbc41\"],[0.9,\"#4d9221\"],[1,\"#276419\"]]},\"xaxis\":{\"gridcolor\":\"white\",\"linecolor\":\"white\",\"ticks\":\"\",\"title\":{\"standoff\":15},\"zerolinecolor\":\"white\",\"automargin\":true,\"zerolinewidth\":2},\"yaxis\":{\"gridcolor\":\"white\",\"linecolor\":\"white\",\"ticks\":\"\",\"title\":{\"standoff\":15},\"zerolinecolor\":\"white\",\"automargin\":true,\"zerolinewidth\":2},\"scene\":{\"xaxis\":{\"backgroundcolor\":\"#E5ECF6\",\"gridcolor\":\"white\",\"linecolor\":\"white\",\"showbackground\":true,\"ticks\":\"\",\"zerolinecolor\":\"white\",\"gridwidth\":2},\"yaxis\":{\"backgroundcolor\":\"#E5ECF6\",\"gridcolor\":\"white\",\"linecolor\":\"white\",\"showbackground\":true,\"ticks\":\"\",\"zerolinecolor\":\"white\",\"gridwidth\":2},\"zaxis\":{\"backgroundcolor\":\"#E5ECF6\",\"gridcolor\":\"white\",\"linecolor\":\"white\",\"showbackground\":true,\"ticks\":\"\",\"zerolinecolor\":\"white\",\"gridwidth\":2}},\"shapedefaults\":{\"line\":{\"color\":\"#2a3f5f\"}},\"annotationdefaults\":{\"arrowcolor\":\"#2a3f5f\",\"arrowhead\":0,\"arrowwidth\":1},\"geo\":{\"bgcolor\":\"white\",\"landcolor\":\"#E5ECF6\",\"subunitcolor\":\"white\",\"showland\":true,\"showlakes\":true,\"lakecolor\":\"white\"},\"title\":{\"x\":0.05},\"mapbox\":{\"style\":\"light\"}}},\"xaxis\":{\"anchor\":\"y\",\"domain\":[0.0,0.45],\"range\":[\"2023-11-21\",\"2024-01-19\"]},\"yaxis\":{\"anchor\":\"x\",\"domain\":[0.575,1.0]},\"xaxis2\":{\"anchor\":\"y2\",\"domain\":[0.55,1.0],\"range\":[\"2023-11-21\",\"2024-01-19\"]},\"yaxis2\":{\"anchor\":\"x2\",\"domain\":[0.575,1.0]},\"xaxis3\":{\"anchor\":\"y3\",\"domain\":[0.0,0.45],\"range\":[\"2023-11-21\",\"2024-01-19\"]},\"yaxis3\":{\"anchor\":\"x3\",\"domain\":[0.0,0.425]},\"xaxis4\":{\"anchor\":\"y4\",\"domain\":[0.55,1.0],\"range\":[\"2023-11-21\",\"2024-01-19\"]},\"yaxis4\":{\"anchor\":\"x4\",\"domain\":[0.0,0.425]},\"shapes\":[{\"line\":{\"color\":\"black\",\"dash\":\"dot\"},\"type\":\"line\",\"x0\":0,\"x1\":1,\"xref\":\"x domain\",\"y0\":0.1850000023841858,\"y1\":0.1850000023841858,\"yref\":\"y\"},{\"line\":{\"color\":\"red\",\"dash\":\"dot\"},\"type\":\"line\",\"x0\":0,\"x1\":1,\"xref\":\"x domain\",\"y0\":0.18028000336885452,\"y1\":0.18028000336885452,\"yref\":\"y\"},{\"line\":{\"color\":\"green\",\"dash\":\"dot\"},\"type\":\"line\",\"x0\":0,\"x1\":1,\"xref\":\"x domain\",\"y0\":0.17500000447034836,\"y1\":0.17500000447034836,\"yref\":\"y\"},{\"line\":{\"color\":\"blue\",\"dash\":\"dot\"},\"type\":\"line\",\"x0\":0,\"x1\":1,\"xref\":\"x domain\",\"y0\":0.17264000496268272,\"y1\":0.17264000496268272,\"yref\":\"y\"},{\"line\":{\"color\":\"cyan\",\"dash\":\"dot\"},\"type\":\"line\",\"x0\":0,\"x1\":1,\"xref\":\"x domain\",\"y0\":0.16928000566363335,\"y1\":0.16928000566363335,\"yref\":\"y\"},{\"line\":{\"color\":\"magenta\",\"dash\":\"dot\"},\"type\":\"line\",\"x0\":0,\"x1\":1,\"xref\":\"x domain\",\"y0\":0.16500000655651093,\"y1\":0.16500000655651093,\"yref\":\"y\"},{\"line\":{\"color\":\"black\",\"dash\":\"dot\"},\"type\":\"line\",\"x0\":0,\"x1\":1,\"xref\":\"x2 domain\",\"y0\":30.5,\"y1\":30.5,\"yref\":\"y2\"},{\"line\":{\"color\":\"red\",\"dash\":\"dot\"},\"type\":\"line\",\"x0\":0,\"x1\":1,\"xref\":\"x2 domain\",\"y0\":29.737720108032228,\"y1\":29.737720108032228,\"yref\":\"y2\"},{\"line\":{\"color\":\"green\",\"dash\":\"dot\"},\"type\":\"line\",\"x0\":0,\"x1\":1,\"xref\":\"x2 domain\",\"y0\":28.885000228881836,\"y1\":28.885000228881836,\"yref\":\"y2\"},{\"line\":{\"color\":\"blue\",\"dash\":\"dot\"},\"type\":\"line\",\"x0\":0,\"x1\":1,\"xref\":\"x2 domain\",\"y0\":28.50386028289795,\"y1\":28.50386028289795,\"yref\":\"y2\"},{\"line\":{\"color\":\"cyan\",\"dash\":\"dot\"},\"type\":\"line\",\"x0\":0,\"x1\":1,\"xref\":\"x2 domain\",\"y0\":27.961220359802248,\"y1\":27.961220359802248,\"yref\":\"y2\"},{\"line\":{\"color\":\"magenta\",\"dash\":\"dot\"},\"type\":\"line\",\"x0\":0,\"x1\":1,\"xref\":\"x2 domain\",\"y0\":27.270000457763672,\"y1\":27.270000457763672,\"yref\":\"y2\"},{\"line\":{\"color\":\"black\",\"dash\":\"dot\"},\"type\":\"line\",\"x0\":0,\"x1\":1,\"xref\":\"x3 domain\",\"y0\":0.5099999904632568,\"y1\":0.5099999904632568,\"yref\":\"y3\"},{\"line\":{\"color\":\"red\",\"dash\":\"dot\"},\"type\":\"line\",\"x0\":0,\"x1\":1,\"xref\":\"x3 domain\",\"y0\":0.48167998933792117,\"y1\":0.48167998933792117,\"yref\":\"y3\"},{\"line\":{\"color\":\"green\",\"dash\":\"dot\"},\"type\":\"line\",\"x0\":0,\"x1\":1,\"xref\":\"x3 domain\",\"y0\":0.44999998807907104,\"y1\":0.44999998807907104,\"yref\":\"y3\"},{\"line\":{\"color\":\"blue\",\"dash\":\"dot\"},\"type\":\"line\",\"x0\":0,\"x1\":1,\"xref\":\"x3 domain\",\"y0\":0.4358399875164032,\"y1\":0.4358399875164032,\"yref\":\"y3\"},{\"line\":{\"color\":\"cyan\",\"dash\":\"dot\"},\"type\":\"line\",\"x0\":0,\"x1\":1,\"xref\":\"x3 domain\",\"y0\":0.41567998671531675,\"y1\":0.41567998671531675,\"yref\":\"y3\"},{\"line\":{\"color\":\"magenta\",\"dash\":\"dot\"},\"type\":\"line\",\"x0\":0,\"x1\":1,\"xref\":\"x3 domain\",\"y0\":0.38999998569488525,\"y1\":0.38999998569488525,\"yref\":\"y3\"},{\"line\":{\"color\":\"black\",\"dash\":\"dot\"},\"type\":\"line\",\"x0\":0,\"x1\":1,\"xref\":\"x4 domain\",\"y0\":3.0299999713897705,\"y1\":3.0299999713897705,\"yref\":\"y4\"},{\"line\":{\"color\":\"red\",\"dash\":\"dot\"},\"type\":\"line\",\"x0\":0,\"x1\":1,\"xref\":\"x4 domain\",\"y0\":2.9001999826431275,\"y1\":2.9001999826431275,\"yref\":\"y4\"},{\"line\":{\"color\":\"green\",\"dash\":\"dot\"},\"type\":\"line\",\"x0\":0,\"x1\":1,\"xref\":\"x4 domain\",\"y0\":2.7549999952316284,\"y1\":2.7549999952316284,\"yref\":\"y4\"},{\"line\":{\"color\":\"blue\",\"dash\":\"dot\"},\"type\":\"line\",\"x0\":0,\"x1\":1,\"xref\":\"x4 domain\",\"y0\":2.690100000858307,\"y1\":2.690100000858307,\"yref\":\"y4\"},{\"line\":{\"color\":\"cyan\",\"dash\":\"dot\"},\"type\":\"line\",\"x0\":0,\"x1\":1,\"xref\":\"x4 domain\",\"y0\":2.5977000088691713,\"y1\":2.5977000088691713,\"yref\":\"y4\"},{\"line\":{\"color\":\"magenta\",\"dash\":\"dot\"},\"type\":\"line\",\"x0\":0,\"x1\":1,\"xref\":\"x4 domain\",\"y0\":2.4800000190734863,\"y1\":2.4800000190734863,\"yref\":\"y4\"}],\"height\":800},                        {\"responsive\": true}                    ).then(function(){\n",
       "                            \n",
       "var gd = document.getElementById('2053dcca-659e-4c1e-8342-18c7cc1b8f28');\n",
       "var x = new MutationObserver(function (mutations, observer) {{\n",
       "        var display = window.getComputedStyle(gd).display;\n",
       "        if (!display || display === 'none') {{\n",
       "            console.log([gd, 'removed!']);\n",
       "            Plotly.purge(gd);\n",
       "            observer.disconnect();\n",
       "        }}\n",
       "}});\n",
       "\n",
       "// Listen for the removal of the full notebook cells\n",
       "var notebookContainer = gd.closest('#notebook-container');\n",
       "if (notebookContainer) {{\n",
       "    x.observe(notebookContainer, {childList: true});\n",
       "}}\n",
       "\n",
       "// Listen for the clearing of the current output cell\n",
       "var outputEl = gd.closest('.output');\n",
       "if (outputEl) {{\n",
       "    x.observe(outputEl, {childList: true});\n",
       "}}\n",
       "\n",
       "                        })                };                });            </script>        </div>"
      ]
     },
     "metadata": {},
     "output_type": "display_data"
    }
   ],
   "source": [
    "fibonacci_retracement_strategy(list(result.keys()), days = PLAN_RANGE * 2)"
   ]
  },
  {
   "cell_type": "code",
   "execution_count": 15,
   "metadata": {},
   "outputs": [
    {
     "name": "stdout",
     "output_type": "stream",
     "text": [
      "Code: JMS\n",
      "Investment: 597.3502687613282\n",
      "No of shares: 3384.858678636161\n",
      "Code: CIN\n",
      "Investment: 646.955763589424\n",
      "No of shares: 21.592861203815136\n",
      "Code: GRR\n",
      "Investment: 210.72532982728833\n",
      "No of shares: 471.84708675983563\n",
      "Code: TBR\n",
      "Investment: 1544.9686378219599\n",
      "No of shares: 531.0236682144689\n"
     ]
    }
   ],
   "source": [
    "FEE = 5.0\n",
    "LARGE_FEE = 10.0\n",
    "TOTAL = 3000\n",
    "PURCHASE_PRICE = {\n",
    "    'JMS' : 0.175,\n",
    "    'CIN' : 29.73,\n",
    "    'GRR' : 0.436,\n",
    "    'TBR' : 2.9\n",
    "}\n",
    "for stock_code in result:\n",
    "    print(f\"Code: {stock_code}\")\n",
    "    investment = TOTAL * result[stock_code]\n",
    "    print(f\"Investment: {investment}\")\n",
    "    print(f\"No of shares: {(investment - FEE) / PURCHASE_PRICE[stock_code]}\")"
   ]
  },
  {
   "cell_type": "code",
   "execution_count": 16,
   "metadata": {},
   "outputs": [
    {
     "name": "stdout",
     "output_type": "stream",
     "text": [
      "Query JMS\n"
     ]
    },
    {
     "name": "stderr",
     "output_type": "stream",
     "text": [
      "/home/khoa/repo/stock_data_scraper/analysis/modules/indicators.py:71: SettingWithCopyWarning:\n",
      "\n",
      "\n",
      "A value is trying to be set on a copy of a slice from a DataFrame\n",
      "\n",
      "See the caveats in the documentation: https://pandas.pydata.org/pandas-docs/stable/user_guide/indexing.html#returning-a-view-versus-a-copy\n",
      "\n"
     ]
    },
    {
     "name": "stdout",
     "output_type": "stream",
     "text": [
      "Query CIN\n"
     ]
    },
    {
     "name": "stderr",
     "output_type": "stream",
     "text": [
      "/home/khoa/repo/stock_data_scraper/analysis/modules/indicators.py:71: SettingWithCopyWarning:\n",
      "\n",
      "\n",
      "A value is trying to be set on a copy of a slice from a DataFrame\n",
      "\n",
      "See the caveats in the documentation: https://pandas.pydata.org/pandas-docs/stable/user_guide/indexing.html#returning-a-view-versus-a-copy\n",
      "\n"
     ]
    },
    {
     "name": "stdout",
     "output_type": "stream",
     "text": [
      "Query GRR\n"
     ]
    },
    {
     "name": "stderr",
     "output_type": "stream",
     "text": [
      "/home/khoa/repo/stock_data_scraper/analysis/modules/indicators.py:71: SettingWithCopyWarning:\n",
      "\n",
      "\n",
      "A value is trying to be set on a copy of a slice from a DataFrame\n",
      "\n",
      "See the caveats in the documentation: https://pandas.pydata.org/pandas-docs/stable/user_guide/indexing.html#returning-a-view-versus-a-copy\n",
      "\n"
     ]
    },
    {
     "name": "stdout",
     "output_type": "stream",
     "text": [
      "Query TBR\n"
     ]
    },
    {
     "name": "stderr",
     "output_type": "stream",
     "text": [
      "/home/khoa/repo/stock_data_scraper/analysis/modules/indicators.py:85: PerformanceWarning:\n",
      "\n",
      "dropping on a non-lexsorted multi-index without a level parameter may impact performance.\n",
      "\n",
      "/home/khoa/repo/stock_data_scraper/analysis/modules/indicators.py:85: PerformanceWarning:\n",
      "\n",
      "dropping on a non-lexsorted multi-index without a level parameter may impact performance.\n",
      "\n",
      "/home/khoa/repo/stock_data_scraper/analysis/modules/indicators.py:85: PerformanceWarning:\n",
      "\n",
      "dropping on a non-lexsorted multi-index without a level parameter may impact performance.\n",
      "\n"
     ]
    },
    {
     "data": {
      "text/html": [
       "<div>\n",
       "<style scoped>\n",
       "    .dataframe tbody tr th:only-of-type {\n",
       "        vertical-align: middle;\n",
       "    }\n",
       "\n",
       "    .dataframe tbody tr th {\n",
       "        vertical-align: top;\n",
       "    }\n",
       "\n",
       "    .dataframe thead tr th {\n",
       "        text-align: left;\n",
       "    }\n",
       "</style>\n",
       "<table border=\"1\" class=\"dataframe\">\n",
       "  <thead>\n",
       "    <tr>\n",
       "      <th></th>\n",
       "      <th>date</th>\n",
       "      <th colspan=\"5\" halign=\"left\">JMS</th>\n",
       "      <th colspan=\"5\" halign=\"left\">CIN</th>\n",
       "      <th colspan=\"5\" halign=\"left\">GRR</th>\n",
       "      <th colspan=\"5\" halign=\"left\">TBR</th>\n",
       "    </tr>\n",
       "    <tr>\n",
       "      <th></th>\n",
       "      <th></th>\n",
       "      <th>close</th>\n",
       "      <th>rsi</th>\n",
       "      <th>rsi_trend</th>\n",
       "      <th>adx</th>\n",
       "      <th>adx_trend</th>\n",
       "      <th>close</th>\n",
       "      <th>rsi</th>\n",
       "      <th>rsi_trend</th>\n",
       "      <th>adx</th>\n",
       "      <th>adx_trend</th>\n",
       "      <th>close</th>\n",
       "      <th>rsi</th>\n",
       "      <th>rsi_trend</th>\n",
       "      <th>adx</th>\n",
       "      <th>adx_trend</th>\n",
       "      <th>close</th>\n",
       "      <th>rsi</th>\n",
       "      <th>rsi_trend</th>\n",
       "      <th>adx</th>\n",
       "      <th>adx_trend</th>\n",
       "    </tr>\n",
       "  </thead>\n",
       "  <tbody>\n",
       "    <tr>\n",
       "      <th>0</th>\n",
       "      <td>2023-12-28</td>\n",
       "      <td>0.170</td>\n",
       "      <td>48.537040</td>\n",
       "      <td>wait</td>\n",
       "      <td>23.964779</td>\n",
       "      <td>wait</td>\n",
       "      <td>NaN</td>\n",
       "      <td>NaN</td>\n",
       "      <td>NaN</td>\n",
       "      <td>NaN</td>\n",
       "      <td>NaN</td>\n",
       "      <td>0.475</td>\n",
       "      <td>63.627165</td>\n",
       "      <td>wait</td>\n",
       "      <td>19.909962</td>\n",
       "      <td>wait</td>\n",
       "      <td>2.86</td>\n",
       "      <td>54.631565</td>\n",
       "      <td>wait</td>\n",
       "      <td>17.785363</td>\n",
       "      <td>wait</td>\n",
       "    </tr>\n",
       "    <tr>\n",
       "      <th>1</th>\n",
       "      <td>2023-12-29</td>\n",
       "      <td>0.165</td>\n",
       "      <td>43.938645</td>\n",
       "      <td>wait</td>\n",
       "      <td>23.351411</td>\n",
       "      <td>wait</td>\n",
       "      <td>29.600000</td>\n",
       "      <td>66.058095</td>\n",
       "      <td>wait</td>\n",
       "      <td>41.119895</td>\n",
       "      <td>wait</td>\n",
       "      <td>0.465</td>\n",
       "      <td>59.635703</td>\n",
       "      <td>wait</td>\n",
       "      <td>20.757256</td>\n",
       "      <td>wait</td>\n",
       "      <td>2.95</td>\n",
       "      <td>59.475701</td>\n",
       "      <td>wait</td>\n",
       "      <td>17.035166</td>\n",
       "      <td>wait</td>\n",
       "    </tr>\n",
       "    <tr>\n",
       "      <th>2</th>\n",
       "      <td>2024-01-02</td>\n",
       "      <td>0.165</td>\n",
       "      <td>43.938645</td>\n",
       "      <td>wait</td>\n",
       "      <td>22.426517</td>\n",
       "      <td>wait</td>\n",
       "      <td>29.700001</td>\n",
       "      <td>67.128650</td>\n",
       "      <td>wait</td>\n",
       "      <td>41.787472</td>\n",
       "      <td>wait</td>\n",
       "      <td>0.510</td>\n",
       "      <td>69.046006</td>\n",
       "      <td>wait</td>\n",
       "      <td>22.485716</td>\n",
       "      <td>wait</td>\n",
       "      <td>2.95</td>\n",
       "      <td>59.475701</td>\n",
       "      <td>wait</td>\n",
       "      <td>16.338554</td>\n",
       "      <td>wait</td>\n",
       "    </tr>\n",
       "    <tr>\n",
       "      <th>3</th>\n",
       "      <td>2024-01-03</td>\n",
       "      <td>0.175</td>\n",
       "      <td>54.038716</td>\n",
       "      <td>wait</td>\n",
       "      <td>21.567686</td>\n",
       "      <td>wait</td>\n",
       "      <td>30.299999</td>\n",
       "      <td>72.693697</td>\n",
       "      <td>bear</td>\n",
       "      <td>42.989029</td>\n",
       "      <td>wait</td>\n",
       "      <td>0.495</td>\n",
       "      <td>63.713846</td>\n",
       "      <td>wait</td>\n",
       "      <td>24.090715</td>\n",
       "      <td>wait</td>\n",
       "      <td>2.95</td>\n",
       "      <td>59.475701</td>\n",
       "      <td>wait</td>\n",
       "      <td>15.310438</td>\n",
       "      <td>wait</td>\n",
       "    </tr>\n",
       "    <tr>\n",
       "      <th>4</th>\n",
       "      <td>2024-01-04</td>\n",
       "      <td>0.180</td>\n",
       "      <td>58.103134</td>\n",
       "      <td>wait</td>\n",
       "      <td>22.087339</td>\n",
       "      <td>wait</td>\n",
       "      <td>29.700001</td>\n",
       "      <td>61.483908</td>\n",
       "      <td>wait</td>\n",
       "      <td>43.211723</td>\n",
       "      <td>wait</td>\n",
       "      <td>0.480</td>\n",
       "      <td>58.821822</td>\n",
       "      <td>wait</td>\n",
       "      <td>24.861389</td>\n",
       "      <td>wait</td>\n",
       "      <td>2.94</td>\n",
       "      <td>58.607291</td>\n",
       "      <td>wait</td>\n",
       "      <td>14.355759</td>\n",
       "      <td>wait</td>\n",
       "    </tr>\n",
       "    <tr>\n",
       "      <th>5</th>\n",
       "      <td>2024-01-05</td>\n",
       "      <td>0.175</td>\n",
       "      <td>53.050898</td>\n",
       "      <td>wait</td>\n",
       "      <td>22.569873</td>\n",
       "      <td>wait</td>\n",
       "      <td>29.709999</td>\n",
       "      <td>61.590201</td>\n",
       "      <td>wait</td>\n",
       "      <td>43.418511</td>\n",
       "      <td>wait</td>\n",
       "      <td>0.495</td>\n",
       "      <td>61.966698</td>\n",
       "      <td>wait</td>\n",
       "      <td>26.046563</td>\n",
       "      <td>bull</td>\n",
       "      <td>2.87</td>\n",
       "      <td>52.796030</td>\n",
       "      <td>wait</td>\n",
       "      <td>13.681310</td>\n",
       "      <td>wait</td>\n",
       "    </tr>\n",
       "    <tr>\n",
       "      <th>6</th>\n",
       "      <td>2024-01-08</td>\n",
       "      <td>0.175</td>\n",
       "      <td>53.050898</td>\n",
       "      <td>wait</td>\n",
       "      <td>23.017941</td>\n",
       "      <td>wait</td>\n",
       "      <td>30.000000</td>\n",
       "      <td>64.638450</td>\n",
       "      <td>wait</td>\n",
       "      <td>43.932973</td>\n",
       "      <td>wait</td>\n",
       "      <td>0.465</td>\n",
       "      <td>53.213401</td>\n",
       "      <td>wait</td>\n",
       "      <td>25.730467</td>\n",
       "      <td>wait</td>\n",
       "      <td>2.86</td>\n",
       "      <td>52.002743</td>\n",
       "      <td>wait</td>\n",
       "      <td>13.152046</td>\n",
       "      <td>wait</td>\n",
       "    </tr>\n",
       "    <tr>\n",
       "      <th>7</th>\n",
       "      <td>2024-01-09</td>\n",
       "      <td>0.180</td>\n",
       "      <td>57.351752</td>\n",
       "      <td>wait</td>\n",
       "      <td>24.473341</td>\n",
       "      <td>wait</td>\n",
       "      <td>30.250000</td>\n",
       "      <td>67.065011</td>\n",
       "      <td>wait</td>\n",
       "      <td>44.665174</td>\n",
       "      <td>wait</td>\n",
       "      <td>0.470</td>\n",
       "      <td>54.370296</td>\n",
       "      <td>wait</td>\n",
       "      <td>25.293611</td>\n",
       "      <td>wait</td>\n",
       "      <td>2.86</td>\n",
       "      <td>52.002743</td>\n",
       "      <td>wait</td>\n",
       "      <td>12.863145</td>\n",
       "      <td>wait</td>\n",
       "    </tr>\n",
       "    <tr>\n",
       "      <th>8</th>\n",
       "      <td>2024-01-10</td>\n",
       "      <td>0.175</td>\n",
       "      <td>52.201861</td>\n",
       "      <td>wait</td>\n",
       "      <td>23.976299</td>\n",
       "      <td>wait</td>\n",
       "      <td>30.250000</td>\n",
       "      <td>67.065011</td>\n",
       "      <td>wait</td>\n",
       "      <td>45.345076</td>\n",
       "      <td>wait</td>\n",
       "      <td>0.460</td>\n",
       "      <td>51.621048</td>\n",
       "      <td>wait</td>\n",
       "      <td>24.594744</td>\n",
       "      <td>wait</td>\n",
       "      <td>2.96</td>\n",
       "      <td>59.125551</td>\n",
       "      <td>wait</td>\n",
       "      <td>12.594879</td>\n",
       "      <td>wait</td>\n",
       "    </tr>\n",
       "    <tr>\n",
       "      <th>9</th>\n",
       "      <td>2024-01-11</td>\n",
       "      <td>0.175</td>\n",
       "      <td>52.201861</td>\n",
       "      <td>wait</td>\n",
       "      <td>23.514759</td>\n",
       "      <td>wait</td>\n",
       "      <td>30.000000</td>\n",
       "      <td>62.121123</td>\n",
       "      <td>wait</td>\n",
       "      <td>45.125999</td>\n",
       "      <td>wait</td>\n",
       "      <td>0.465</td>\n",
       "      <td>52.903369</td>\n",
       "      <td>wait</td>\n",
       "      <td>23.247943</td>\n",
       "      <td>wait</td>\n",
       "      <td>2.96</td>\n",
       "      <td>59.125551</td>\n",
       "      <td>wait</td>\n",
       "      <td>12.345776</td>\n",
       "      <td>wait</td>\n",
       "    </tr>\n",
       "    <tr>\n",
       "      <th>10</th>\n",
       "      <td>2024-01-12</td>\n",
       "      <td>0.175</td>\n",
       "      <td>52.201861</td>\n",
       "      <td>wait</td>\n",
       "      <td>24.105941</td>\n",
       "      <td>wait</td>\n",
       "      <td>30.000000</td>\n",
       "      <td>62.121123</td>\n",
       "      <td>wait</td>\n",
       "      <td>44.922571</td>\n",
       "      <td>wait</td>\n",
       "      <td>0.470</td>\n",
       "      <td>54.210417</td>\n",
       "      <td>wait</td>\n",
       "      <td>22.454643</td>\n",
       "      <td>wait</td>\n",
       "      <td>2.96</td>\n",
       "      <td>59.125551</td>\n",
       "      <td>wait</td>\n",
       "      <td>12.114465</td>\n",
       "      <td>wait</td>\n",
       "    </tr>\n",
       "    <tr>\n",
       "      <th>11</th>\n",
       "      <td>2024-01-15</td>\n",
       "      <td>0.175</td>\n",
       "      <td>52.201861</td>\n",
       "      <td>wait</td>\n",
       "      <td>24.654896</td>\n",
       "      <td>wait</td>\n",
       "      <td>30.049999</td>\n",
       "      <td>62.757917</td>\n",
       "      <td>wait</td>\n",
       "      <td>44.733674</td>\n",
       "      <td>wait</td>\n",
       "      <td>0.460</td>\n",
       "      <td>51.152781</td>\n",
       "      <td>wait</td>\n",
       "      <td>21.718008</td>\n",
       "      <td>wait</td>\n",
       "      <td>2.86</td>\n",
       "      <td>49.880314</td>\n",
       "      <td>wait</td>\n",
       "      <td>11.770339</td>\n",
       "      <td>wait</td>\n",
       "    </tr>\n",
       "    <tr>\n",
       "      <th>12</th>\n",
       "      <td>2024-01-16</td>\n",
       "      <td>0.175</td>\n",
       "      <td>52.201861</td>\n",
       "      <td>wait</td>\n",
       "      <td>25.609027</td>\n",
       "      <td>bull</td>\n",
       "      <td>30.049999</td>\n",
       "      <td>62.757917</td>\n",
       "      <td>wait</td>\n",
       "      <td>44.558269</td>\n",
       "      <td>wait</td>\n",
       "      <td>0.440</td>\n",
       "      <td>45.611699</td>\n",
       "      <td>wait</td>\n",
       "      <td>20.617353</td>\n",
       "      <td>wait</td>\n",
       "      <td>3.03</td>\n",
       "      <td>61.034867</td>\n",
       "      <td>wait</td>\n",
       "      <td>11.824652</td>\n",
       "      <td>wait</td>\n",
       "    </tr>\n",
       "    <tr>\n",
       "      <th>13</th>\n",
       "      <td>2024-01-17</td>\n",
       "      <td>NaN</td>\n",
       "      <td>NaN</td>\n",
       "      <td>NaN</td>\n",
       "      <td>NaN</td>\n",
       "      <td>NaN</td>\n",
       "      <td>30.000000</td>\n",
       "      <td>61.557716</td>\n",
       "      <td>wait</td>\n",
       "      <td>44.188588</td>\n",
       "      <td>wait</td>\n",
       "      <td>NaN</td>\n",
       "      <td>NaN</td>\n",
       "      <td>NaN</td>\n",
       "      <td>NaN</td>\n",
       "      <td>NaN</td>\n",
       "      <td>NaN</td>\n",
       "      <td>NaN</td>\n",
       "      <td>NaN</td>\n",
       "      <td>NaN</td>\n",
       "      <td>NaN</td>\n",
       "    </tr>\n",
       "    <tr>\n",
       "      <th>14</th>\n",
       "      <td>2024-01-19</td>\n",
       "      <td>0.175</td>\n",
       "      <td>52.201861</td>\n",
       "      <td>wait</td>\n",
       "      <td>26.495006</td>\n",
       "      <td>wait</td>\n",
       "      <td>29.620001</td>\n",
       "      <td>53.226351</td>\n",
       "      <td>wait</td>\n",
       "      <td>42.423859</td>\n",
       "      <td>wait</td>\n",
       "      <td>0.440</td>\n",
       "      <td>45.611699</td>\n",
       "      <td>wait</td>\n",
       "      <td>19.595316</td>\n",
       "      <td>wait</td>\n",
       "      <td>2.93</td>\n",
       "      <td>53.493045</td>\n",
       "      <td>wait</td>\n",
       "      <td>11.546336</td>\n",
       "      <td>wait</td>\n",
       "    </tr>\n",
       "  </tbody>\n",
       "</table>\n",
       "</div>"
      ],
      "text/plain": [
       "          date    JMS                                                  CIN  \\\n",
       "                close        rsi rsi_trend        adx adx_trend      close   \n",
       "0   2023-12-28  0.170  48.537040      wait  23.964779      wait        NaN   \n",
       "1   2023-12-29  0.165  43.938645      wait  23.351411      wait  29.600000   \n",
       "2   2024-01-02  0.165  43.938645      wait  22.426517      wait  29.700001   \n",
       "3   2024-01-03  0.175  54.038716      wait  21.567686      wait  30.299999   \n",
       "4   2024-01-04  0.180  58.103134      wait  22.087339      wait  29.700001   \n",
       "5   2024-01-05  0.175  53.050898      wait  22.569873      wait  29.709999   \n",
       "6   2024-01-08  0.175  53.050898      wait  23.017941      wait  30.000000   \n",
       "7   2024-01-09  0.180  57.351752      wait  24.473341      wait  30.250000   \n",
       "8   2024-01-10  0.175  52.201861      wait  23.976299      wait  30.250000   \n",
       "9   2024-01-11  0.175  52.201861      wait  23.514759      wait  30.000000   \n",
       "10  2024-01-12  0.175  52.201861      wait  24.105941      wait  30.000000   \n",
       "11  2024-01-15  0.175  52.201861      wait  24.654896      wait  30.049999   \n",
       "12  2024-01-16  0.175  52.201861      wait  25.609027      bull  30.049999   \n",
       "13  2024-01-17    NaN        NaN       NaN        NaN       NaN  30.000000   \n",
       "14  2024-01-19  0.175  52.201861      wait  26.495006      wait  29.620001   \n",
       "\n",
       "                                                GRR                       \\\n",
       "          rsi rsi_trend        adx adx_trend  close        rsi rsi_trend   \n",
       "0         NaN       NaN        NaN       NaN  0.475  63.627165      wait   \n",
       "1   66.058095      wait  41.119895      wait  0.465  59.635703      wait   \n",
       "2   67.128650      wait  41.787472      wait  0.510  69.046006      wait   \n",
       "3   72.693697      bear  42.989029      wait  0.495  63.713846      wait   \n",
       "4   61.483908      wait  43.211723      wait  0.480  58.821822      wait   \n",
       "5   61.590201      wait  43.418511      wait  0.495  61.966698      wait   \n",
       "6   64.638450      wait  43.932973      wait  0.465  53.213401      wait   \n",
       "7   67.065011      wait  44.665174      wait  0.470  54.370296      wait   \n",
       "8   67.065011      wait  45.345076      wait  0.460  51.621048      wait   \n",
       "9   62.121123      wait  45.125999      wait  0.465  52.903369      wait   \n",
       "10  62.121123      wait  44.922571      wait  0.470  54.210417      wait   \n",
       "11  62.757917      wait  44.733674      wait  0.460  51.152781      wait   \n",
       "12  62.757917      wait  44.558269      wait  0.440  45.611699      wait   \n",
       "13  61.557716      wait  44.188588      wait    NaN        NaN       NaN   \n",
       "14  53.226351      wait  42.423859      wait  0.440  45.611699      wait   \n",
       "\n",
       "                          TBR                                            \n",
       "          adx adx_trend close        rsi rsi_trend        adx adx_trend  \n",
       "0   19.909962      wait  2.86  54.631565      wait  17.785363      wait  \n",
       "1   20.757256      wait  2.95  59.475701      wait  17.035166      wait  \n",
       "2   22.485716      wait  2.95  59.475701      wait  16.338554      wait  \n",
       "3   24.090715      wait  2.95  59.475701      wait  15.310438      wait  \n",
       "4   24.861389      wait  2.94  58.607291      wait  14.355759      wait  \n",
       "5   26.046563      bull  2.87  52.796030      wait  13.681310      wait  \n",
       "6   25.730467      wait  2.86  52.002743      wait  13.152046      wait  \n",
       "7   25.293611      wait  2.86  52.002743      wait  12.863145      wait  \n",
       "8   24.594744      wait  2.96  59.125551      wait  12.594879      wait  \n",
       "9   23.247943      wait  2.96  59.125551      wait  12.345776      wait  \n",
       "10  22.454643      wait  2.96  59.125551      wait  12.114465      wait  \n",
       "11  21.718008      wait  2.86  49.880314      wait  11.770339      wait  \n",
       "12  20.617353      wait  3.03  61.034867      wait  11.824652      wait  \n",
       "13        NaN       NaN   NaN        NaN       NaN        NaN       NaN  \n",
       "14  19.595316      wait  2.93  53.493045      wait  11.546336      wait  "
      ]
     },
     "execution_count": 16,
     "metadata": {},
     "output_type": "execute_result"
    }
   ],
   "source": [
    "momentum_indicators(result, lookback_window=14)"
   ]
  },
  {
   "cell_type": "code",
   "execution_count": null,
   "metadata": {},
   "outputs": [],
   "source": []
  }
 ],
 "metadata": {
  "kernelspec": {
   "display_name": "stock",
   "language": "python",
   "name": "python3"
  },
  "language_info": {
   "codemirror_mode": {
    "name": "ipython",
    "version": 3
   },
   "file_extension": ".py",
   "mimetype": "text/x-python",
   "name": "python",
   "nbconvert_exporter": "python",
   "pygments_lexer": "ipython3",
   "version": "3.8.18"
  }
 },
 "nbformat": 4,
 "nbformat_minor": 2
}
