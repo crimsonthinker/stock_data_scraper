{
 "metadata": {
  "language_info": {
   "codemirror_mode": {
    "name": "ipython",
    "version": 3
   },
   "file_extension": ".py",
   "mimetype": "text/x-python",
   "name": "python",
   "nbconvert_exporter": "python",
   "pygments_lexer": "ipython3",
   "version": "3.9.5"
  },
  "orig_nbformat": 4,
  "kernelspec": {
   "name": "python3",
   "display_name": "Python 3.9.5 64-bit ('investment': conda)"
  },
  "interpreter": {
   "hash": "8835166c13db3ce4ca0d85f1b7af29f1c190c54bfc5890b0bfac43f25d70d7ce"
  }
 },
 "nbformat": 4,
 "nbformat_minor": 2,
 "cells": [
  {
   "cell_type": "code",
   "execution_count": 1,
   "source": [
    "%load_ext autoreload\n",
    "%autoreload 2"
   ],
   "outputs": [],
   "metadata": {}
  },
  {
   "cell_type": "code",
   "execution_count": 2,
   "source": [
    "from analysis.modules.japanese_candlestick import candlestick_patterns"
   ],
   "outputs": [],
   "metadata": {}
  },
  {
   "cell_type": "code",
   "execution_count": 3,
   "source": [
    "stock_code = 'BVH'"
   ],
   "outputs": [],
   "metadata": {}
  },
  {
   "cell_type": "code",
   "execution_count": 8,
   "source": [
    "decision = candlestick_patterns(stock_code)"
   ],
   "outputs": [],
   "metadata": {}
  },
  {
   "cell_type": "code",
   "execution_count": 9,
   "source": [
    "decision"
   ],
   "outputs": [
    {
     "output_type": "execute_result",
     "data": {
      "text/plain": [
       "stock_code                BVH\n",
       "date               2021-09-01\n",
       "open_price               57.3\n",
       "highest_price            57.3\n",
       "lowest_price             56.5\n",
       "                      ...    \n",
       "CDLSHOOTINGSTAR             0\n",
       "CDLRICKSHAWMAN              0\n",
       "CDLHAMMER                   0\n",
       "CDLMATHOLD                  0\n",
       "action                   wait\n",
       "Name: 4, Length: 63, dtype: object"
      ]
     },
     "metadata": {},
     "execution_count": 9
    }
   ],
   "metadata": {}
  }
 ]
}