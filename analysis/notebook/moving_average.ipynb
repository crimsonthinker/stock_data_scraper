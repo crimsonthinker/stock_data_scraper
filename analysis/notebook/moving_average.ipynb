{
 "cells": [
  {
   "cell_type": "code",
   "execution_count": 7,
   "source": [
    "%load_ext autoreload\n",
    "%autoreload 2"
   ],
   "outputs": [
    {
     "output_type": "stream",
     "name": "stdout",
     "text": [
      "The autoreload extension is already loaded. To reload it, use:\n",
      "  %reload_ext autoreload\n"
     ]
    }
   ],
   "metadata": {}
  },
  {
   "cell_type": "code",
   "execution_count": 8,
   "source": [
    "from utils.utilities import get_engine\n",
    "from datetime import datetime\n",
    "from dateutil.relativedelta import relativedelta\n",
    "import pandas as pd\n",
    "import matplotlib.pyplot as plt\n",
    "from analysis.modules.moving_average import moving_average_analysis"
   ],
   "outputs": [],
   "metadata": {}
  },
  {
   "cell_type": "code",
   "execution_count": 9,
   "source": [
    "engine = get_engine()"
   ],
   "outputs": [],
   "metadata": {}
  },
  {
   "cell_type": "code",
   "execution_count": 10,
   "source": [
    "stock_code = 'BVH'\n",
    "investment_preference = {\n",
    "    (10, 20) : 0.6,\n",
    "    (20, 50) : 0.4,\n",
    "}"
   ],
   "outputs": [],
   "metadata": {}
  },
  {
   "cell_type": "code",
   "execution_count": 11,
   "source": [
    "recent_state = moving_average_analysis('BVH', investment_preference)\n",
    "recent_state"
   ],
   "outputs": [
    {
     "output_type": "stream",
     "name": "stderr",
     "text": [
      "/home/khoa/miniconda3/envs/investment/lib/python3.9/site-packages/pandas/core/indexing.py:692: SettingWithCopyWarning: \n",
      "A value is trying to be set on a copy of a slice from a DataFrame\n",
      "\n",
      "See the caveats in the documentation: https://pandas.pydata.org/pandas-docs/stable/user_guide/indexing.html#returning-a-view-versus-a-copy\n",
      "  iloc._setitem_with_indexer(indexer, value, self.name)\n"
     ]
    },
    {
     "output_type": "execute_result",
     "data": {
      "text/plain": [
       "stock_exchange           HSX\n",
       "stock_code               BVH\n",
       "date              2021-08-31\n",
       "open_price              56.0\n",
       "highest_price           57.5\n",
       "lowest_price            55.9\n",
       "close_price             57.0\n",
       "volume               2580900\n",
       "ma_10                   54.1\n",
       "ma_20                  54.03\n",
       "ma_50              52.811138\n",
       "state_10_20             wait\n",
       "state_20_50             wait\n",
       "final_action            wait\n",
       "action_score             0.5\n",
       "Name: 3042, dtype: object"
      ]
     },
     "metadata": {},
     "execution_count": 11
    }
   ],
   "metadata": {}
  }
 ],
 "metadata": {
  "interpreter": {
   "hash": "8835166c13db3ce4ca0d85f1b7af29f1c190c54bfc5890b0bfac43f25d70d7ce"
  },
  "kernelspec": {
   "name": "python3",
   "display_name": "Python 3.9.5 64-bit ('investment': conda)"
  },
  "language_info": {
   "codemirror_mode": {
    "name": "ipython",
    "version": 3
   },
   "file_extension": ".py",
   "mimetype": "text/x-python",
   "name": "python",
   "nbconvert_exporter": "python",
   "pygments_lexer": "ipython3",
   "version": "3.9.5"
  },
  "orig_nbformat": 4
 },
 "nbformat": 4,
 "nbformat_minor": 2
}