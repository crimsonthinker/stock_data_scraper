{
 "cells": [
  {
   "cell_type": "code",
   "execution_count": 1,
   "source": [
    "%load_ext autoreload\n",
    "%autoreload 2"
   ],
   "outputs": [],
   "metadata": {}
  },
  {
   "cell_type": "code",
   "execution_count": 2,
   "source": [
    "from utils.utilities import get_engine\n",
    "from datetime import datetime\n",
    "from dateutil.relativedelta import relativedelta\n",
    "import pandas as pd\n",
    "import matplotlib.pyplot as plt"
   ],
   "outputs": [],
   "metadata": {}
  },
  {
   "cell_type": "code",
   "execution_count": 3,
   "source": [
    "engine = get_engine()"
   ],
   "outputs": [],
   "metadata": {}
  },
  {
   "cell_type": "code",
   "execution_count": 20,
   "source": [
    "# Get list of stock and its start date\n",
    "stock_query = f\"\"\"\n",
    "    SELECT \n",
    "        stock_code,\n",
    "        company_name,\n",
    "        first_transaction_date\n",
    "    FROM public.stock_info\n",
    "    WHERE\n",
    "        stock_code = 'BVH'\n",
    "\"\"\"\n",
    "df = pd.read_sql_query(stock_query, engine)"
   ],
   "outputs": [],
   "metadata": {}
  },
  {
   "cell_type": "code",
   "execution_count": 25,
   "source": [
    "def calculate_profit(stocks : pd.DataFrame):\n",
    "    result = pd.DataFrame(columns = ['stock_code', 'buy_today', 'profit'])\n",
    "    today = datetime.today().date()\n",
    "    for _, stock in stocks.iterrows():\n",
    "        query = f\"\"\"\n",
    "            SELECT * \n",
    "            FROM public.transaction\n",
    "            WHERE\n",
    "                date >= DATE '{stock[\"first_transaction_date\"]}'\n",
    "                AND\n",
    "                date <= DATE '{today}'\n",
    "                AND\n",
    "                stock_code = '{stock[\"stock_code\"]}'\n",
    "        \"\"\"\n",
    "        df = pd.read_sql_query(query, engine)\n",
    "        df['MA10'] = df['close_price'].rolling(10).mean()\n",
    "        df['MA50'] = df['close_price'].rolling(50).mean()\n",
    "        df = df.dropna()\n",
    "        df['shares'] = [1 if df.loc[i, 'MA10'] > df.loc[i, 'MA50'] else 0 for i in df.index]\n",
    "        df['future_close_price'] = df['close_price'].shift(-1)\n",
    "        df['profit'] = [df.loc[i, 'future_close_price'] - df.loc[i, 'close_price'] for i in df.index]\n",
    "        df['wealth'] = df['profit'].cumsum()\n",
    "        if len(df) >= 2:\n",
    "            result.loc[len(result)] = [stock[\"stock_code\"], df['shares'].iloc[-1], df['wealth'].iloc[-2]]\n",
    "            result.index = result.index + 1\n",
    "\n",
    "    return result\n"
   ],
   "outputs": [],
   "metadata": {}
  },
  {
   "cell_type": "code",
   "execution_count": 26,
   "source": [
    "result = calculate_profit(df)"
   ],
   "outputs": [],
   "metadata": {}
  },
  {
   "cell_type": "code",
   "execution_count": 10,
   "source": [
    "result.index = result['stock_code']\n",
    "result = result.drop('stock_code', axis = 1)"
   ],
   "outputs": [],
   "metadata": {}
  },
  {
   "cell_type": "code",
   "execution_count": 27,
   "source": [
    "result"
   ],
   "outputs": [
    {
     "output_type": "execute_result",
     "data": {
      "text/plain": [
       "  stock_code buy_today  profit\n",
       "1        BVH         1    -1.0"
      ],
      "text/html": [
       "<div>\n",
       "<style scoped>\n",
       "    .dataframe tbody tr th:only-of-type {\n",
       "        vertical-align: middle;\n",
       "    }\n",
       "\n",
       "    .dataframe tbody tr th {\n",
       "        vertical-align: top;\n",
       "    }\n",
       "\n",
       "    .dataframe thead th {\n",
       "        text-align: right;\n",
       "    }\n",
       "</style>\n",
       "<table border=\"1\" class=\"dataframe\">\n",
       "  <thead>\n",
       "    <tr style=\"text-align: right;\">\n",
       "      <th></th>\n",
       "      <th>stock_code</th>\n",
       "      <th>buy_today</th>\n",
       "      <th>profit</th>\n",
       "    </tr>\n",
       "  </thead>\n",
       "  <tbody>\n",
       "    <tr>\n",
       "      <th>1</th>\n",
       "      <td>BVH</td>\n",
       "      <td>1</td>\n",
       "      <td>-1.0</td>\n",
       "    </tr>\n",
       "  </tbody>\n",
       "</table>\n",
       "</div>"
      ]
     },
     "metadata": {},
     "execution_count": 27
    }
   ],
   "metadata": {}
  },
  {
   "cell_type": "code",
   "execution_count": null,
   "source": [],
   "outputs": [],
   "metadata": {}
  }
 ],
 "metadata": {
  "interpreter": {
   "hash": "8835166c13db3ce4ca0d85f1b7af29f1c190c54bfc5890b0bfac43f25d70d7ce"
  },
  "kernelspec": {
   "name": "python3",
   "display_name": "Python 3.9.5 64-bit ('investment': conda)"
  },
  "language_info": {
   "codemirror_mode": {
    "name": "ipython",
    "version": 3
   },
   "file_extension": ".py",
   "mimetype": "text/x-python",
   "name": "python",
   "nbconvert_exporter": "python",
   "pygments_lexer": "ipython3",
   "version": "3.9.5"
  },
  "orig_nbformat": 4
 },
 "nbformat": 4,
 "nbformat_minor": 2
}